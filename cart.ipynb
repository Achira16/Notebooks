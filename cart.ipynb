{
 "metadata": {
  "language_info": {
   "codemirror_mode": {
    "name": "ipython",
    "version": 3
   },
   "file_extension": ".py",
   "mimetype": "text/x-python",
   "name": "python",
   "nbconvert_exporter": "python",
   "pygments_lexer": "ipython3",
   "version": "3.9.1-final"
  },
  "orig_nbformat": 2,
  "kernelspec": {
   "name": "python391jvsc74a57bd031f2aee4e71d21fbe5cf8b01ff0e069b9275f58929596ceb00d14d90e3e16cd6",
   "display_name": "Python 3.9.1 64-bit"
  },
  "metadata": {
   "interpreter": {
    "hash": "31f2aee4e71d21fbe5cf8b01ff0e069b9275f58929596ceb00d14d90e3e16cd6"
   }
  }
 },
 "nbformat": 4,
 "nbformat_minor": 2,
 "cells": [
  {
   "cell_type": "code",
   "execution_count": 3,
   "metadata": {},
   "outputs": [],
   "source": [
    "import pandas as pd\n",
    "import numpy as np\n",
    "from scipy import stats\n",
    "from itertools import chain,combinations"
   ]
  },
  {
   "cell_type": "code",
   "execution_count": 4,
   "metadata": {},
   "outputs": [],
   "source": [
    "def powerset(iterable):\n",
    "    s = list(iterable)\n",
    "    return chain.from_iterable(combinations(s, r) for r in range(1,len(s)))\n",
    "# p = list(powerset(np.array(['a','b','c'])))\n",
    "# list(p[0])"
   ]
  },
  {
   "cell_type": "code",
   "execution_count": 5,
   "metadata": {},
   "outputs": [],
   "source": [
    "class Node:\n",
    "    def __init__(self):\n",
    "        self.attr = None\n",
    "        self.label = None\n",
    "        self.next = None"
   ]
  },
  {
   "cell_type": "code",
   "execution_count": 12,
   "metadata": {},
   "outputs": [],
   "source": [
    "class cart:\n",
    "    def __init__(self,target):\n",
    "        self.classes_ = np.unique(target)\n",
    "    def gini(self,y):\n",
    "        g_a = 0\n",
    "        for c in self.classes_:\n",
    "            prop = np.sum(y==c)/len(y)\n",
    "            g_a+=prop*prop\n",
    "        return 1-g_a\n",
    "    def findBestMidPoint(self,X,y):\n",
    "        num_parent = {}\n",
    "        for c in self.classes_:\n",
    "            num_parent[c] = np.sum(y==c)\n",
    "        g_a = np.inf\n",
    "        best_split_point = None\n",
    "        points, classes = zip(*sorted(zip(X,y)))\n",
    "        num_left = {}\n",
    "        for c in self.classes_:\n",
    "            num_left[c] = 0\n",
    "        num_right = num_parent.copy()\n",
    "        m = len(y)\n",
    "        for i in range(1,m):\n",
    "             c = classes[i - 1]\n",
    "             num_left[c] += 1\n",
    "             num_right[c] -= 1\n",
    "             gini_left = 1.0 - sum((num_left[x] / i) ** 2 for x in self.classes_)\n",
    "             gini_right = 1.0 - sum((num_right[x] / (m - i)) ** 2 for x in self.classes_)\n",
    "             gini = (i * gini_left + (m - i) * gini_right) / m\n",
    "             if points[i] == points[i - 1]:\n",
    "                    continue\n",
    "             if gini < g_a:\n",
    "                    g_a = gini\n",
    "                    best_split_point = (points[i] + points[i - 1]) / 2\n",
    "        return (g_a,best_split_point)\n",
    "    def selectBestAttr(self,X,y,features,attr_values):\n",
    "        # print(len(y))\n",
    "        # print(G)\n",
    "        G = self.gini(y)\n",
    "        # print(G)\n",
    "        G_a = []\n",
    "        split_points = []\n",
    "        for i in range(len(features)):\n",
    "            if attr_values[features[i]].dtype == 'O':\n",
    "                g_a = np.inf\n",
    "                subsets = list(powerset(attr_values[features[i]]))\n",
    "                # print(subsets)\n",
    "                max_len = len(attr_values[features[i]])//2\n",
    "                for s in subsets:\n",
    "                    set1 = list(s)\n",
    "                    if len(s) <= max_len:\n",
    "                        set2 = []\n",
    "                        for a in attr_values[features[i]]:\n",
    "                            if a not in set1:\n",
    "                                set2.append(a)\n",
    "                        # print(set1,set2)\n",
    "                        y_v1,y_v2 = y[X[features[i]].isin(set1)],y[X[features[i]].isin(set2)]\n",
    "                        if not len(y_v1):\n",
    "                            temp = self.gini(y_v2)\n",
    "                        elif not len(y_v2):\n",
    "                            temp = self.gini(y_v1)\n",
    "                        else:\n",
    "                            temp = (len(y_v1)*self.gini(y_v1)+len(y_v2)*self.gini(y_v2))/len(y)\n",
    "                        if temp < g_a:\n",
    "                            g_a = temp\n",
    "                            sp = (set1,set2)\n",
    "                    else:\n",
    "                        break\n",
    "            else:\n",
    "                (g_a,sp) = self.findBestMidPoint(X[features[i]],y)\n",
    "            G_a.append(g_a)\n",
    "            split_points.append(sp)\n",
    "        # print(G_a,split_points)\n",
    "        print(G_a)\n",
    "        G_a = np.array(G_a)\n",
    "        # print(G_a)\n",
    "        best_index = (G-G_a).argmax()\n",
    "        # print(features[best_index],split_points[best_index])\n",
    "        return (best_index,split_points[best_index])\n",
    "    def cart(self,X,y,features,attr_values):\n",
    "        root = Node()\n",
    "        labels = np.unique(y)\n",
    "        if len(labels)==1:\n",
    "            # print(X,y)\n",
    "            root.label = labels[0]\n",
    "            return root\n",
    "        if not len(features):\n",
    "            root.label = stats.mode(y)[0][0]\n",
    "            return root\n",
    "        attr_index,sp = self.selectBestAttr(X,y,features,attr_values)\n",
    "        if sp == None:\n",
    "            root.label = stats.mode(y)[0][0]\n",
    "            return root\n",
    "        root.attr = features[attr_index]\n",
    "        root.next = []\n",
    "        if X[root.attr].dtype == 'O':\n",
    "            set1,set2 = sp\n",
    "            # print(sp)\n",
    "            X_v1,X_v2 = X[X[root.attr].isin(set1)],X[X[root.attr].isin(set2)]\n",
    "            y_v1,y_v2 = y[X[root.attr].isin(set1)],y[X[root.attr].isin(set2)]\n",
    "            if not len(X_v1):\n",
    "                temp = Node()\n",
    "                temp.label = stats.mode(y)[0][0]\n",
    "                root.next.append((set1,temp))\n",
    "            else:\n",
    "                temp = self.cart(X_v1,y_v1,features[0:attr_index]+features[attr_index+1:],attr_values)\n",
    "                root.next.append((set1,temp))\n",
    "            if not len(X_v2):\n",
    "                temp = Node()\n",
    "                temp.label = stats.mode(y)[0][0]\n",
    "                root.next.append((set2,temp))\n",
    "            else:\n",
    "                temp = self.cart(X_v2,y_v2,features[0:attr_index]+features[attr_index+1:],attr_values)\n",
    "                root.next.append((set2,temp))\n",
    "        else:\n",
    "            X_v1,X_v2 = X[X[root.attr] <= sp],X[X[root.attr] > sp]\n",
    "            y_v1,y_v2 = y[X[root.attr] <= sp],y[X[root.attr] > sp]\n",
    "            if not len(X_v1):\n",
    "                temp = Node()\n",
    "                temp.label = stats.mode(y)[0][0]\n",
    "                root.next.append(((sp,0),temp))\n",
    "            else:\n",
    "                temp = self.cart(X_v1,y_v1,features[0:attr_index]+features[attr_index+1:],attr_values)\n",
    "                root.next.append(((sp,0),temp))\n",
    "            if not len(X_v2):\n",
    "                temp = Node()\n",
    "                temp.label = stats.mode(y)[0][0]\n",
    "                root.next.append(((sp,1),temp))\n",
    "            else:\n",
    "                temp = self.cart(X_v2,y_v2,features[0:attr_index]+features[attr_index+1:],attr_values)\n",
    "                root.next.append(((sp,1),temp))\n",
    "        return root\n",
    "    def fit(self,data,features,target):\n",
    "        X = data[features]\n",
    "        y = data[target]\n",
    "        attr_values = {}\n",
    "        for a in features:\n",
    "            attr_values[a] = np.unique(X[a])\n",
    "        # print(type(attr_values['Outlook']))\n",
    "        root = self.cart(X,y,features,attr_values)\n",
    "        return root\n",
    "    def findPath(self,x,root):\n",
    "        # print(x)\n",
    "        # print(root.attr)\n",
    "        # print(root.label)\n",
    "        # print(root.next)\n",
    "        if root.label != None:\n",
    "            return root.label\n",
    "        for child in root.next:\n",
    "            if type(x[root.attr]) == str:\n",
    "                if x[root.attr] in child[0]:\n",
    "                    ans = self.findPath(x,child[1])\n",
    "                    break\n",
    "            else:\n",
    "                if not child[0][1] and x[root.attr] <= child[0][0]:\n",
    "                    ans = self.findPath(x,child[1])\n",
    "                    break\n",
    "                if child[0][1] and x[root.attr] > child[0][0]:\n",
    "                    ans = self.findPath(x,child[1])\n",
    "                    break\n",
    "        return ans\n",
    "    def predict(self,root,test_X):\n",
    "        y = []\n",
    "        for x in test_X.index:\n",
    "            for child in root.next:\n",
    "                if test_X[root.attr].dtype == 'O':\n",
    "                    if test_X.loc[x][root.attr] in child[0]:\n",
    "                        y.append(self.findPath(test_X.loc[x],child[1]))\n",
    "                        break\n",
    "                else:\n",
    "                    if not child[0][1] and test_X.loc[x][root.attr] <= child[0][0]:\n",
    "                        y.append(self.findPath(test_X.loc[x],child[1]))\n",
    "                        break\n",
    "                    if child[0][1] and test_X.loc[x][root.attr] > child[0][0]:\n",
    "                        y.append(self.findPath(test_X.loc[x],child[1]))\n",
    "                        break\n",
    "        y = np.array(y)\n",
    "        return y\n",
    "    def viewTree(self,root):\n",
    "        queue = []\n",
    "        queue.append((root,0))\n",
    "        while len(queue):\n",
    "            temp,depth = queue.pop(0)\n",
    "            i = 1\n",
    "            print(f'Depth: {depth} Attribute: {temp.attr}')\n",
    "            for t in temp.next:\n",
    "                if t[1].label == None:\n",
    "                    print(f'[{i}: {t[0]}: Attribute: {t[1].attr}]',end=\"  \")\n",
    "                    queue.append((t[1],depth+1))\n",
    "                else:\n",
    "                    print(f'[{i}: {t[0]}: Class label: {t[1].label}]',end=\"  \")\n",
    "                i+=1\n",
    "            print('\\n')\n",
    "    def accuracy(self,true_y,pred_y):\n",
    "        acc = np.sum(true_y==pred_y)/len(true_y)\n",
    "        return acc*100"
   ]
  },
  {
   "cell_type": "code",
   "execution_count": 23,
   "metadata": {},
   "outputs": [],
   "source": [
    "data = pd.read_csv('playtennis.csv')"
   ]
  },
  {
   "cell_type": "code",
   "execution_count": 24,
   "metadata": {},
   "outputs": [
    {
     "output_type": "execute_result",
     "data": {
      "text/plain": [
       "False"
      ]
     },
     "metadata": {},
     "execution_count": 24
    }
   ],
   "source": [
    "data['PlayTennis'].dtype == np.int64"
   ]
  },
  {
   "cell_type": "code",
   "execution_count": 25,
   "metadata": {},
   "outputs": [],
   "source": [
    "tree = cart(data.PlayTennis)"
   ]
  },
  {
   "cell_type": "code",
   "execution_count": 26,
   "metadata": {},
   "outputs": [],
   "source": [
    "features = ['Outlook','Temperature','Humidity','Wind']\n",
    "target = 'PlayTennis'\n",
    "root = tree.fit(data,features,target)"
   ]
  },
  {
   "cell_type": "code",
   "execution_count": 27,
   "metadata": {},
   "outputs": [
    {
     "output_type": "stream",
     "name": "stdout",
     "text": [
      "Depth: 0 Attribute: Outlook\n[1: ['Overcast']: Class label: Yes]  [2: ['Rain', 'Sunny']: Attribute: Humidity]  \n\nDepth: 1 Attribute: Humidity\n[1: ['High']: Attribute: Temperature]  [2: ['Normal']: Attribute: Wind]  \n\nDepth: 2 Attribute: Temperature\n[1: ['Hot']: Class label: No]  [2: ['Cool', 'Mild']: Attribute: Wind]  \n\nDepth: 2 Attribute: Wind\n[1: ['Strong']: Attribute: Temperature]  [2: ['Weak']: Class label: Yes]  \n\nDepth: 3 Attribute: Wind\n[1: ['Strong']: Class label: No]  [2: ['Weak']: Class label: No]  \n\nDepth: 3 Attribute: Temperature\n[1: ['Cool']: Class label: No]  [2: ['Hot', 'Mild']: Class label: Yes]  \n\n"
     ]
    }
   ],
   "source": [
    "tree.viewTree(root)"
   ]
  },
  {
   "cell_type": "code",
   "execution_count": 30,
   "metadata": {},
   "outputs": [],
   "source": [
    "cars = pd.read_csv('car2.csv')"
   ]
  },
  {
   "cell_type": "code",
   "execution_count": 31,
   "metadata": {},
   "outputs": [],
   "source": [
    "from sklearn.model_selection import train_test_split\n",
    "train,test = train_test_split(cars,test_size=0.25,random_state=0)"
   ]
  },
  {
   "cell_type": "code",
   "execution_count": 32,
   "metadata": {},
   "outputs": [],
   "source": [
    "tree2 = cart(train.target)\n",
    "features = train.columns[:-1].to_list()"
   ]
  },
  {
   "cell_type": "code",
   "execution_count": 33,
   "metadata": {},
   "outputs": [],
   "source": [
    "root = tree2.fit(train,features,'target')"
   ]
  },
  {
   "cell_type": "code",
   "execution_count": 34,
   "metadata": {},
   "outputs": [
    {
     "output_type": "stream",
     "name": "stdout",
     "text": [
      "Depth: 0 Attribute: safety\n[1: ['low']: Class label: unacc]  [2: ['high', 'med']: Attribute: persons]  \n\nDepth: 1 Attribute: persons\n[1: ['2']: Class label: unacc]  [2: ['4', 'more']: Attribute: buying]  \n\nDepth: 2 Attribute: buying\n[1: ['high', 'vhigh']: Attribute: maint]  [2: ['low', 'med']: Attribute: maint]  \n\nDepth: 3 Attribute: maint\n[1: ['high', 'vhigh']: Attribute: lug_boot]  [2: ['low', 'med']: Attribute: lug_boot]  \n\nDepth: 3 Attribute: maint\n[1: ['high', 'vhigh']: Attribute: lug_boot]  [2: ['low', 'med']: Attribute: lug_boot]  \n\nDepth: 4 Attribute: lug_boot\n[1: ['small']: Attribute: doors]  [2: ['big', 'med']: Attribute: doors]  \n\nDepth: 4 Attribute: lug_boot\n[1: ['small']: Attribute: doors]  [2: ['big', 'med']: Attribute: doors]  \n\nDepth: 4 Attribute: lug_boot\n[1: ['small']: Attribute: doors]  [2: ['big', 'med']: Attribute: doors]  \n\nDepth: 4 Attribute: lug_boot\n[1: ['small']: Attribute: doors]  [2: ['big', 'med']: Attribute: doors]  \n\nDepth: 5 Attribute: doors\n[1: ['4']: Class label: unacc]  [2: ['2', '3', '5more']: Class label: unacc]  \n\nDepth: 5 Attribute: doors\n[1: ['2']: Class label: unacc]  [2: ['3', '4', '5more']: Class label: unacc]  \n\nDepth: 5 Attribute: doors\n[1: ['2']: Class label: unacc]  [2: ['3', '4', '5more']: Class label: acc]  \n\nDepth: 5 Attribute: doors\n[1: ['2', '3']: Class label: acc]  [2: ['4', '5more']: Class label: acc]  \n\nDepth: 5 Attribute: doors\n[1: ['2']: Class label: unacc]  [2: ['3', '4', '5more']: Class label: acc]  \n\nDepth: 5 Attribute: doors\n[1: ['4']: Class label: acc]  [2: ['2', '3', '5more']: Class label: acc]  \n\nDepth: 5 Attribute: doors\n[1: ['2']: Class label: unacc]  [2: ['3', '4', '5more']: Class label: acc]  \n\nDepth: 5 Attribute: doors\n[1: ['2']: Class label: vgood]  [2: ['3', '4', '5more']: Class label: vgood]  \n\n"
     ]
    }
   ],
   "source": [
    "tree2.viewTree(root)"
   ]
  },
  {
   "cell_type": "code",
   "execution_count": 35,
   "metadata": {},
   "outputs": [],
   "source": [
    "test_X = test.iloc[:,:-1]"
   ]
  },
  {
   "cell_type": "code",
   "execution_count": 36,
   "metadata": {},
   "outputs": [],
   "source": [
    "pred_y = tree2.predict(test_X=test_X,root=root)"
   ]
  },
  {
   "cell_type": "code",
   "execution_count": 37,
   "metadata": {},
   "outputs": [
    {
     "output_type": "execute_result",
     "data": {
      "text/plain": [
       "83.79629629629629"
      ]
     },
     "metadata": {},
     "execution_count": 37
    }
   ],
   "source": [
    "tree2.accuracy(test.iloc[:,-1].values,pred_y)"
   ]
  },
  {
   "cell_type": "code",
   "execution_count": 38,
   "metadata": {},
   "outputs": [],
   "source": [
    "t_pred_y = tree2.predict(root,train.iloc[:,:-1])"
   ]
  },
  {
   "cell_type": "code",
   "execution_count": 39,
   "metadata": {},
   "outputs": [
    {
     "output_type": "execute_result",
     "data": {
      "text/plain": [
       "88.19444444444444"
      ]
     },
     "metadata": {},
     "execution_count": 39
    }
   ],
   "source": [
    "tree2.accuracy(train.iloc[:,-1].values,t_pred_y)"
   ]
  },
  {
   "cell_type": "code",
   "execution_count": 13,
   "metadata": {},
   "outputs": [],
   "source": [
    "data = pd.read_csv('dtr3_2.csv')"
   ]
  },
  {
   "cell_type": "code",
   "execution_count": 14,
   "metadata": {},
   "outputs": [],
   "source": [
    "tree4 = cart(data.Target)"
   ]
  },
  {
   "cell_type": "code",
   "execution_count": 15,
   "metadata": {},
   "outputs": [],
   "source": [
    "features = ['Outlook','Temperature','Humidity','Wind']\n",
    "target = 'Target'"
   ]
  },
  {
   "cell_type": "code",
   "execution_count": 16,
   "metadata": {},
   "outputs": [
    {
     "output_type": "stream",
     "name": "stdout",
     "text": [
      "[0.35714285714285715, 0.39560439560439564, 0.3673469387755103, 0.42857142857142855]\n[0.375, 0.31999999999999984, 0.41666666666666663]\n[0.0, 0.2]\n[0.0, 0.26666666666666666]\n"
     ]
    }
   ],
   "source": [
    "root = tree4.fit(data,features,target)"
   ]
  },
  {
   "cell_type": "code",
   "execution_count": 11,
   "metadata": {},
   "outputs": [
    {
     "output_type": "stream",
     "name": "stdout",
     "text": [
      "Depth: 0 Attribute: Outlook\n[1: ['Overcast']: Class label: Yes]  [2: ['Rain', 'Sunny']: Attribute: Humidity]  \n\nDepth: 1 Attribute: Humidity\n[1: (82.5, 0): Attribute: Temperature]  [2: (82.5, 1): Attribute: Temperature]  \n\nDepth: 2 Attribute: Temperature\n[1: (66.5, 0): Class label: No]  [2: (66.5, 1): Class label: Yes]  \n\nDepth: 2 Attribute: Temperature\n[1: (70.5, 0): Class label: Yes]  [2: (70.5, 1): Class label: No]  \n\n"
     ]
    }
   ],
   "source": [
    "tree4.viewTree(root)"
   ]
  },
  {
   "cell_type": "code",
   "execution_count": 45,
   "metadata": {},
   "outputs": [],
   "source": [
    "iris_names = ['sepal length','sepal width','petal length','petal width','class']\n",
    "iris = pd.read_csv('iris.csv',names=iris_names)"
   ]
  },
  {
   "cell_type": "code",
   "execution_count": 46,
   "metadata": {},
   "outputs": [
    {
     "output_type": "execute_result",
     "data": {
      "text/plain": [
       "     sepal length  sepal width  petal length  petal width           class\n",
       "0             5.1          3.5           1.4          0.2     Iris-setosa\n",
       "1             4.9          3.0           1.4          0.2     Iris-setosa\n",
       "2             4.7          3.2           1.3          0.2     Iris-setosa\n",
       "3             4.6          3.1           1.5          0.2     Iris-setosa\n",
       "4             5.0          3.6           1.4          0.2     Iris-setosa\n",
       "..            ...          ...           ...          ...             ...\n",
       "145           6.7          3.0           5.2          2.3  Iris-virginica\n",
       "146           6.3          2.5           5.0          1.9  Iris-virginica\n",
       "147           6.5          3.0           5.2          2.0  Iris-virginica\n",
       "148           6.2          3.4           5.4          2.3  Iris-virginica\n",
       "149           5.9          3.0           5.1          1.8  Iris-virginica\n",
       "\n",
       "[150 rows x 5 columns]"
      ],
      "text/html": "<div>\n<style scoped>\n    .dataframe tbody tr th:only-of-type {\n        vertical-align: middle;\n    }\n\n    .dataframe tbody tr th {\n        vertical-align: top;\n    }\n\n    .dataframe thead th {\n        text-align: right;\n    }\n</style>\n<table border=\"1\" class=\"dataframe\">\n  <thead>\n    <tr style=\"text-align: right;\">\n      <th></th>\n      <th>sepal length</th>\n      <th>sepal width</th>\n      <th>petal length</th>\n      <th>petal width</th>\n      <th>class</th>\n    </tr>\n  </thead>\n  <tbody>\n    <tr>\n      <th>0</th>\n      <td>5.1</td>\n      <td>3.5</td>\n      <td>1.4</td>\n      <td>0.2</td>\n      <td>Iris-setosa</td>\n    </tr>\n    <tr>\n      <th>1</th>\n      <td>4.9</td>\n      <td>3.0</td>\n      <td>1.4</td>\n      <td>0.2</td>\n      <td>Iris-setosa</td>\n    </tr>\n    <tr>\n      <th>2</th>\n      <td>4.7</td>\n      <td>3.2</td>\n      <td>1.3</td>\n      <td>0.2</td>\n      <td>Iris-setosa</td>\n    </tr>\n    <tr>\n      <th>3</th>\n      <td>4.6</td>\n      <td>3.1</td>\n      <td>1.5</td>\n      <td>0.2</td>\n      <td>Iris-setosa</td>\n    </tr>\n    <tr>\n      <th>4</th>\n      <td>5.0</td>\n      <td>3.6</td>\n      <td>1.4</td>\n      <td>0.2</td>\n      <td>Iris-setosa</td>\n    </tr>\n    <tr>\n      <th>...</th>\n      <td>...</td>\n      <td>...</td>\n      <td>...</td>\n      <td>...</td>\n      <td>...</td>\n    </tr>\n    <tr>\n      <th>145</th>\n      <td>6.7</td>\n      <td>3.0</td>\n      <td>5.2</td>\n      <td>2.3</td>\n      <td>Iris-virginica</td>\n    </tr>\n    <tr>\n      <th>146</th>\n      <td>6.3</td>\n      <td>2.5</td>\n      <td>5.0</td>\n      <td>1.9</td>\n      <td>Iris-virginica</td>\n    </tr>\n    <tr>\n      <th>147</th>\n      <td>6.5</td>\n      <td>3.0</td>\n      <td>5.2</td>\n      <td>2.0</td>\n      <td>Iris-virginica</td>\n    </tr>\n    <tr>\n      <th>148</th>\n      <td>6.2</td>\n      <td>3.4</td>\n      <td>5.4</td>\n      <td>2.3</td>\n      <td>Iris-virginica</td>\n    </tr>\n    <tr>\n      <th>149</th>\n      <td>5.9</td>\n      <td>3.0</td>\n      <td>5.1</td>\n      <td>1.8</td>\n      <td>Iris-virginica</td>\n    </tr>\n  </tbody>\n</table>\n<p>150 rows × 5 columns</p>\n</div>"
     },
     "metadata": {},
     "execution_count": 46
    }
   ],
   "source": [
    "iris"
   ]
  },
  {
   "cell_type": "code",
   "execution_count": 61,
   "metadata": {},
   "outputs": [],
   "source": [
    "train_iris,test_iris = train_test_split(iris,test_size=0.4,random_state=1)"
   ]
  },
  {
   "cell_type": "code",
   "execution_count": 62,
   "metadata": {},
   "outputs": [
    {
     "output_type": "execute_result",
     "data": {
      "text/plain": [
       "     sepal length  sepal width  petal length  petal width            class\n",
       "11            4.8          3.4           1.6          0.2      Iris-setosa\n",
       "113           5.7          2.5           5.0          2.0   Iris-virginica\n",
       "123           6.3          2.7           4.9          1.8   Iris-virginica\n",
       "12            4.8          3.0           1.4          0.1      Iris-setosa\n",
       "2             4.7          3.2           1.3          0.2      Iris-setosa\n",
       "..            ...          ...           ...          ...              ...\n",
       "133           6.3          2.8           5.1          1.5   Iris-virginica\n",
       "137           6.4          3.1           5.5          1.8   Iris-virginica\n",
       "72            6.3          2.5           4.9          1.5  Iris-versicolor\n",
       "140           6.7          3.1           5.6          2.4   Iris-virginica\n",
       "37            4.9          3.1           1.5          0.1      Iris-setosa\n",
       "\n",
       "[90 rows x 5 columns]"
      ],
      "text/html": "<div>\n<style scoped>\n    .dataframe tbody tr th:only-of-type {\n        vertical-align: middle;\n    }\n\n    .dataframe tbody tr th {\n        vertical-align: top;\n    }\n\n    .dataframe thead th {\n        text-align: right;\n    }\n</style>\n<table border=\"1\" class=\"dataframe\">\n  <thead>\n    <tr style=\"text-align: right;\">\n      <th></th>\n      <th>sepal length</th>\n      <th>sepal width</th>\n      <th>petal length</th>\n      <th>petal width</th>\n      <th>class</th>\n    </tr>\n  </thead>\n  <tbody>\n    <tr>\n      <th>11</th>\n      <td>4.8</td>\n      <td>3.4</td>\n      <td>1.6</td>\n      <td>0.2</td>\n      <td>Iris-setosa</td>\n    </tr>\n    <tr>\n      <th>113</th>\n      <td>5.7</td>\n      <td>2.5</td>\n      <td>5.0</td>\n      <td>2.0</td>\n      <td>Iris-virginica</td>\n    </tr>\n    <tr>\n      <th>123</th>\n      <td>6.3</td>\n      <td>2.7</td>\n      <td>4.9</td>\n      <td>1.8</td>\n      <td>Iris-virginica</td>\n    </tr>\n    <tr>\n      <th>12</th>\n      <td>4.8</td>\n      <td>3.0</td>\n      <td>1.4</td>\n      <td>0.1</td>\n      <td>Iris-setosa</td>\n    </tr>\n    <tr>\n      <th>2</th>\n      <td>4.7</td>\n      <td>3.2</td>\n      <td>1.3</td>\n      <td>0.2</td>\n      <td>Iris-setosa</td>\n    </tr>\n    <tr>\n      <th>...</th>\n      <td>...</td>\n      <td>...</td>\n      <td>...</td>\n      <td>...</td>\n      <td>...</td>\n    </tr>\n    <tr>\n      <th>133</th>\n      <td>6.3</td>\n      <td>2.8</td>\n      <td>5.1</td>\n      <td>1.5</td>\n      <td>Iris-virginica</td>\n    </tr>\n    <tr>\n      <th>137</th>\n      <td>6.4</td>\n      <td>3.1</td>\n      <td>5.5</td>\n      <td>1.8</td>\n      <td>Iris-virginica</td>\n    </tr>\n    <tr>\n      <th>72</th>\n      <td>6.3</td>\n      <td>2.5</td>\n      <td>4.9</td>\n      <td>1.5</td>\n      <td>Iris-versicolor</td>\n    </tr>\n    <tr>\n      <th>140</th>\n      <td>6.7</td>\n      <td>3.1</td>\n      <td>5.6</td>\n      <td>2.4</td>\n      <td>Iris-virginica</td>\n    </tr>\n    <tr>\n      <th>37</th>\n      <td>4.9</td>\n      <td>3.1</td>\n      <td>1.5</td>\n      <td>0.1</td>\n      <td>Iris-setosa</td>\n    </tr>\n  </tbody>\n</table>\n<p>90 rows × 5 columns</p>\n</div>"
     },
     "metadata": {},
     "execution_count": 62
    }
   ],
   "source": [
    "train_iris"
   ]
  },
  {
   "cell_type": "code",
   "execution_count": 63,
   "metadata": {},
   "outputs": [],
   "source": [
    "i_tree = cart(train_iris['class'])"
   ]
  },
  {
   "cell_type": "code",
   "execution_count": 64,
   "metadata": {},
   "outputs": [],
   "source": [
    "root = i_tree.fit(train_iris,features=['sepal length','sepal width','petal length','petal width'],target='class')"
   ]
  },
  {
   "cell_type": "code",
   "execution_count": 66,
   "metadata": {},
   "outputs": [],
   "source": [
    "preds = i_tree.predict(root,test_iris.iloc[:,:-1])"
   ]
  },
  {
   "cell_type": "code",
   "execution_count": 67,
   "metadata": {},
   "outputs": [
    {
     "output_type": "execute_result",
     "data": {
      "text/plain": [
       "96.66666666666667"
      ]
     },
     "metadata": {},
     "execution_count": 67
    }
   ],
   "source": [
    "i_tree.accuracy(test_iris.iloc[:,-1].values,preds)"
   ]
  },
  {
   "cell_type": "code",
   "execution_count": 68,
   "metadata": {},
   "outputs": [
    {
     "output_type": "stream",
     "name": "stdout",
     "text": [
      "Depth: 0 Attribute: petal length\n[1: (2.5999999999999996, 0): Class label: Iris-setosa]  [2: (2.5999999999999996, 1): Attribute: petal width]  \n\nDepth: 1 Attribute: petal width\n[1: (1.65, 0): Attribute: sepal length]  [2: (1.65, 1): Attribute: sepal length]  \n\nDepth: 2 Attribute: sepal length\n[1: (7.1, 0): Attribute: sepal width]  [2: (7.1, 1): Class label: Iris-virginica]  \n\nDepth: 2 Attribute: sepal length\n[1: (5.95, 0): Attribute: sepal width]  [2: (5.95, 1): Class label: Iris-virginica]  \n\nDepth: 3 Attribute: sepal width\n[1: (2.8499999999999996, 0): Class label: Iris-versicolor]  [2: (2.8499999999999996, 1): Class label: Iris-versicolor]  \n\nDepth: 3 Attribute: sepal width\n[1: (3.1, 0): Class label: Iris-virginica]  [2: (3.1, 1): Class label: Iris-versicolor]  \n\n"
     ]
    }
   ],
   "source": [
    "i_tree.viewTree(root)"
   ]
  },
  {
   "cell_type": "code",
   "execution_count": 69,
   "metadata": {},
   "outputs": [],
   "source": [
    "bank = pd.read_csv('bank-additional/bank-additional-full.csv',sep=\";\")"
   ]
  },
  {
   "cell_type": "code",
   "execution_count": 70,
   "metadata": {},
   "outputs": [
    {
     "output_type": "execute_result",
     "data": {
      "text/plain": [
       "       age          job  marital            education  default housing loan  \\\n",
       "0       56    housemaid  married             basic.4y       no      no   no   \n",
       "1       57     services  married          high.school  unknown      no   no   \n",
       "2       37     services  married          high.school       no     yes   no   \n",
       "3       40       admin.  married             basic.6y       no      no   no   \n",
       "4       56     services  married          high.school       no      no  yes   \n",
       "...    ...          ...      ...                  ...      ...     ...  ...   \n",
       "41183   73      retired  married  professional.course       no     yes   no   \n",
       "41184   46  blue-collar  married  professional.course       no      no   no   \n",
       "41185   56      retired  married    university.degree       no     yes   no   \n",
       "41186   44   technician  married  professional.course       no      no   no   \n",
       "41187   74      retired  married  professional.course       no     yes   no   \n",
       "\n",
       "         contact month day_of_week  ...  campaign  pdays  previous  \\\n",
       "0      telephone   may         mon  ...         1    999         0   \n",
       "1      telephone   may         mon  ...         1    999         0   \n",
       "2      telephone   may         mon  ...         1    999         0   \n",
       "3      telephone   may         mon  ...         1    999         0   \n",
       "4      telephone   may         mon  ...         1    999         0   \n",
       "...          ...   ...         ...  ...       ...    ...       ...   \n",
       "41183   cellular   nov         fri  ...         1    999         0   \n",
       "41184   cellular   nov         fri  ...         1    999         0   \n",
       "41185   cellular   nov         fri  ...         2    999         0   \n",
       "41186   cellular   nov         fri  ...         1    999         0   \n",
       "41187   cellular   nov         fri  ...         3    999         1   \n",
       "\n",
       "          poutcome emp.var.rate  cons.price.idx  cons.conf.idx  euribor3m  \\\n",
       "0      nonexistent          1.1          93.994          -36.4      4.857   \n",
       "1      nonexistent          1.1          93.994          -36.4      4.857   \n",
       "2      nonexistent          1.1          93.994          -36.4      4.857   \n",
       "3      nonexistent          1.1          93.994          -36.4      4.857   \n",
       "4      nonexistent          1.1          93.994          -36.4      4.857   \n",
       "...            ...          ...             ...            ...        ...   \n",
       "41183  nonexistent         -1.1          94.767          -50.8      1.028   \n",
       "41184  nonexistent         -1.1          94.767          -50.8      1.028   \n",
       "41185  nonexistent         -1.1          94.767          -50.8      1.028   \n",
       "41186  nonexistent         -1.1          94.767          -50.8      1.028   \n",
       "41187      failure         -1.1          94.767          -50.8      1.028   \n",
       "\n",
       "       nr.employed    y  \n",
       "0           5191.0   no  \n",
       "1           5191.0   no  \n",
       "2           5191.0   no  \n",
       "3           5191.0   no  \n",
       "4           5191.0   no  \n",
       "...            ...  ...  \n",
       "41183       4963.6  yes  \n",
       "41184       4963.6   no  \n",
       "41185       4963.6   no  \n",
       "41186       4963.6  yes  \n",
       "41187       4963.6   no  \n",
       "\n",
       "[41188 rows x 21 columns]"
      ],
      "text/html": "<div>\n<style scoped>\n    .dataframe tbody tr th:only-of-type {\n        vertical-align: middle;\n    }\n\n    .dataframe tbody tr th {\n        vertical-align: top;\n    }\n\n    .dataframe thead th {\n        text-align: right;\n    }\n</style>\n<table border=\"1\" class=\"dataframe\">\n  <thead>\n    <tr style=\"text-align: right;\">\n      <th></th>\n      <th>age</th>\n      <th>job</th>\n      <th>marital</th>\n      <th>education</th>\n      <th>default</th>\n      <th>housing</th>\n      <th>loan</th>\n      <th>contact</th>\n      <th>month</th>\n      <th>day_of_week</th>\n      <th>...</th>\n      <th>campaign</th>\n      <th>pdays</th>\n      <th>previous</th>\n      <th>poutcome</th>\n      <th>emp.var.rate</th>\n      <th>cons.price.idx</th>\n      <th>cons.conf.idx</th>\n      <th>euribor3m</th>\n      <th>nr.employed</th>\n      <th>y</th>\n    </tr>\n  </thead>\n  <tbody>\n    <tr>\n      <th>0</th>\n      <td>56</td>\n      <td>housemaid</td>\n      <td>married</td>\n      <td>basic.4y</td>\n      <td>no</td>\n      <td>no</td>\n      <td>no</td>\n      <td>telephone</td>\n      <td>may</td>\n      <td>mon</td>\n      <td>...</td>\n      <td>1</td>\n      <td>999</td>\n      <td>0</td>\n      <td>nonexistent</td>\n      <td>1.1</td>\n      <td>93.994</td>\n      <td>-36.4</td>\n      <td>4.857</td>\n      <td>5191.0</td>\n      <td>no</td>\n    </tr>\n    <tr>\n      <th>1</th>\n      <td>57</td>\n      <td>services</td>\n      <td>married</td>\n      <td>high.school</td>\n      <td>unknown</td>\n      <td>no</td>\n      <td>no</td>\n      <td>telephone</td>\n      <td>may</td>\n      <td>mon</td>\n      <td>...</td>\n      <td>1</td>\n      <td>999</td>\n      <td>0</td>\n      <td>nonexistent</td>\n      <td>1.1</td>\n      <td>93.994</td>\n      <td>-36.4</td>\n      <td>4.857</td>\n      <td>5191.0</td>\n      <td>no</td>\n    </tr>\n    <tr>\n      <th>2</th>\n      <td>37</td>\n      <td>services</td>\n      <td>married</td>\n      <td>high.school</td>\n      <td>no</td>\n      <td>yes</td>\n      <td>no</td>\n      <td>telephone</td>\n      <td>may</td>\n      <td>mon</td>\n      <td>...</td>\n      <td>1</td>\n      <td>999</td>\n      <td>0</td>\n      <td>nonexistent</td>\n      <td>1.1</td>\n      <td>93.994</td>\n      <td>-36.4</td>\n      <td>4.857</td>\n      <td>5191.0</td>\n      <td>no</td>\n    </tr>\n    <tr>\n      <th>3</th>\n      <td>40</td>\n      <td>admin.</td>\n      <td>married</td>\n      <td>basic.6y</td>\n      <td>no</td>\n      <td>no</td>\n      <td>no</td>\n      <td>telephone</td>\n      <td>may</td>\n      <td>mon</td>\n      <td>...</td>\n      <td>1</td>\n      <td>999</td>\n      <td>0</td>\n      <td>nonexistent</td>\n      <td>1.1</td>\n      <td>93.994</td>\n      <td>-36.4</td>\n      <td>4.857</td>\n      <td>5191.0</td>\n      <td>no</td>\n    </tr>\n    <tr>\n      <th>4</th>\n      <td>56</td>\n      <td>services</td>\n      <td>married</td>\n      <td>high.school</td>\n      <td>no</td>\n      <td>no</td>\n      <td>yes</td>\n      <td>telephone</td>\n      <td>may</td>\n      <td>mon</td>\n      <td>...</td>\n      <td>1</td>\n      <td>999</td>\n      <td>0</td>\n      <td>nonexistent</td>\n      <td>1.1</td>\n      <td>93.994</td>\n      <td>-36.4</td>\n      <td>4.857</td>\n      <td>5191.0</td>\n      <td>no</td>\n    </tr>\n    <tr>\n      <th>...</th>\n      <td>...</td>\n      <td>...</td>\n      <td>...</td>\n      <td>...</td>\n      <td>...</td>\n      <td>...</td>\n      <td>...</td>\n      <td>...</td>\n      <td>...</td>\n      <td>...</td>\n      <td>...</td>\n      <td>...</td>\n      <td>...</td>\n      <td>...</td>\n      <td>...</td>\n      <td>...</td>\n      <td>...</td>\n      <td>...</td>\n      <td>...</td>\n      <td>...</td>\n      <td>...</td>\n    </tr>\n    <tr>\n      <th>41183</th>\n      <td>73</td>\n      <td>retired</td>\n      <td>married</td>\n      <td>professional.course</td>\n      <td>no</td>\n      <td>yes</td>\n      <td>no</td>\n      <td>cellular</td>\n      <td>nov</td>\n      <td>fri</td>\n      <td>...</td>\n      <td>1</td>\n      <td>999</td>\n      <td>0</td>\n      <td>nonexistent</td>\n      <td>-1.1</td>\n      <td>94.767</td>\n      <td>-50.8</td>\n      <td>1.028</td>\n      <td>4963.6</td>\n      <td>yes</td>\n    </tr>\n    <tr>\n      <th>41184</th>\n      <td>46</td>\n      <td>blue-collar</td>\n      <td>married</td>\n      <td>professional.course</td>\n      <td>no</td>\n      <td>no</td>\n      <td>no</td>\n      <td>cellular</td>\n      <td>nov</td>\n      <td>fri</td>\n      <td>...</td>\n      <td>1</td>\n      <td>999</td>\n      <td>0</td>\n      <td>nonexistent</td>\n      <td>-1.1</td>\n      <td>94.767</td>\n      <td>-50.8</td>\n      <td>1.028</td>\n      <td>4963.6</td>\n      <td>no</td>\n    </tr>\n    <tr>\n      <th>41185</th>\n      <td>56</td>\n      <td>retired</td>\n      <td>married</td>\n      <td>university.degree</td>\n      <td>no</td>\n      <td>yes</td>\n      <td>no</td>\n      <td>cellular</td>\n      <td>nov</td>\n      <td>fri</td>\n      <td>...</td>\n      <td>2</td>\n      <td>999</td>\n      <td>0</td>\n      <td>nonexistent</td>\n      <td>-1.1</td>\n      <td>94.767</td>\n      <td>-50.8</td>\n      <td>1.028</td>\n      <td>4963.6</td>\n      <td>no</td>\n    </tr>\n    <tr>\n      <th>41186</th>\n      <td>44</td>\n      <td>technician</td>\n      <td>married</td>\n      <td>professional.course</td>\n      <td>no</td>\n      <td>no</td>\n      <td>no</td>\n      <td>cellular</td>\n      <td>nov</td>\n      <td>fri</td>\n      <td>...</td>\n      <td>1</td>\n      <td>999</td>\n      <td>0</td>\n      <td>nonexistent</td>\n      <td>-1.1</td>\n      <td>94.767</td>\n      <td>-50.8</td>\n      <td>1.028</td>\n      <td>4963.6</td>\n      <td>yes</td>\n    </tr>\n    <tr>\n      <th>41187</th>\n      <td>74</td>\n      <td>retired</td>\n      <td>married</td>\n      <td>professional.course</td>\n      <td>no</td>\n      <td>yes</td>\n      <td>no</td>\n      <td>cellular</td>\n      <td>nov</td>\n      <td>fri</td>\n      <td>...</td>\n      <td>3</td>\n      <td>999</td>\n      <td>1</td>\n      <td>failure</td>\n      <td>-1.1</td>\n      <td>94.767</td>\n      <td>-50.8</td>\n      <td>1.028</td>\n      <td>4963.6</td>\n      <td>no</td>\n    </tr>\n  </tbody>\n</table>\n<p>41188 rows × 21 columns</p>\n</div>"
     },
     "metadata": {},
     "execution_count": 70
    }
   ],
   "source": [
    "bank"
   ]
  },
  {
   "cell_type": "code",
   "execution_count": 71,
   "metadata": {},
   "outputs": [
    {
     "output_type": "stream",
     "name": "stdout",
     "text": [
      "job\nadmin.           10422\nblue-collar       9254\ntechnician        6743\nservices          3969\nmanagement        2924\nretired           1720\nentrepreneur      1456\nself-employed     1421\nhousemaid         1060\nunemployed        1014\nstudent            875\nunknown            330\nName: job, dtype: int64\nmarital\nmarried     24928\nsingle      11568\ndivorced     4612\nunknown        80\nName: marital, dtype: int64\neducation\nuniversity.degree      12168\nhigh.school             9515\nbasic.9y                6045\nprofessional.course     5243\nbasic.4y                4176\nbasic.6y                2292\nunknown                 1731\nilliterate                18\nName: education, dtype: int64\ndefault\nno         32588\nunknown     8597\nyes            3\nName: default, dtype: int64\nhousing\nyes        21576\nno         18622\nunknown      990\nName: housing, dtype: int64\nloan\nno         33950\nyes         6248\nunknown      990\nName: loan, dtype: int64\ncontact\ncellular     26144\ntelephone    15044\nName: contact, dtype: int64\nmonth\nmay    13769\njul     7174\naug     6178\njun     5318\nnov     4101\napr     2632\noct      718\nsep      570\nmar      546\ndec      182\nName: month, dtype: int64\nday_of_week\nthu    8623\nmon    8514\nwed    8134\ntue    8090\nfri    7827\nName: day_of_week, dtype: int64\npoutcome\nnonexistent    35563\nfailure         4252\nsuccess         1373\nName: poutcome, dtype: int64\ny\nno     36548\nyes     4640\nName: y, dtype: int64\n"
     ]
    }
   ],
   "source": [
    "for c in bank.columns[bank.dtypes == 'object']:\n",
    "    print(c)\n",
    "    print(bank[c].value_counts())"
   ]
  },
  {
   "cell_type": "code",
   "execution_count": 72,
   "metadata": {},
   "outputs": [],
   "source": [
    "from sklearn.model_selection import train_test_split"
   ]
  },
  {
   "cell_type": "code",
   "execution_count": 73,
   "metadata": {},
   "outputs": [],
   "source": [
    "train,test = train_test_split(bank,test_size=0.2,random_state=0)"
   ]
  },
  {
   "cell_type": "code",
   "execution_count": 74,
   "metadata": {},
   "outputs": [
    {
     "output_type": "stream",
     "name": "stdout",
     "text": [
      "<class 'pandas.core.frame.DataFrame'>\nInt64Index: 32950 entries, 29321 to 2732\nData columns (total 21 columns):\n #   Column          Non-Null Count  Dtype  \n---  ------          --------------  -----  \n 0   age             32950 non-null  int64  \n 1   job             32950 non-null  object \n 2   marital         32950 non-null  object \n 3   education       32950 non-null  object \n 4   default         32950 non-null  object \n 5   housing         32950 non-null  object \n 6   loan            32950 non-null  object \n 7   contact         32950 non-null  object \n 8   month           32950 non-null  object \n 9   day_of_week     32950 non-null  object \n 10  duration        32950 non-null  int64  \n 11  campaign        32950 non-null  int64  \n 12  pdays           32950 non-null  int64  \n 13  previous        32950 non-null  int64  \n 14  poutcome        32950 non-null  object \n 15  emp.var.rate    32950 non-null  float64\n 16  cons.price.idx  32950 non-null  float64\n 17  cons.conf.idx   32950 non-null  float64\n 18  euribor3m       32950 non-null  float64\n 19  nr.employed     32950 non-null  float64\n 20  y               32950 non-null  object \ndtypes: float64(5), int64(5), object(11)\nmemory usage: 5.5+ MB\n"
     ]
    }
   ],
   "source": [
    "train.info()"
   ]
  },
  {
   "cell_type": "code",
   "execution_count": 75,
   "metadata": {},
   "outputs": [
    {
     "output_type": "execute_result",
     "data": {
      "text/plain": [
       "array([False, False, False])"
      ]
     },
     "metadata": {},
     "execution_count": 75
    }
   ],
   "source": [
    "train.poutcome.value_counts().index != test.poutcome.value_counts().index"
   ]
  },
  {
   "cell_type": "code",
   "execution_count": 76,
   "metadata": {},
   "outputs": [
    {
     "output_type": "stream",
     "name": "stderr",
     "text": [
      "<ipython-input-76-001516fa8bbe>:6: SettingWithCopyWarning: \nA value is trying to be set on a copy of a slice from a DataFrame.\nTry using .loc[row_indexer,col_indexer] = value instead\n\nSee the caveats in the documentation: https://pandas.pydata.org/pandas-docs/stable/user_guide/indexing.html#returning-a-view-versus-a-copy\n  train[c] = le.transform(train[c])\n<ipython-input-76-001516fa8bbe>:7: SettingWithCopyWarning: \nA value is trying to be set on a copy of a slice from a DataFrame.\nTry using .loc[row_indexer,col_indexer] = value instead\n\nSee the caveats in the documentation: https://pandas.pydata.org/pandas-docs/stable/user_guide/indexing.html#returning-a-view-versus-a-copy\n  test[c] = le.transform(test[c])\n"
     ]
    }
   ],
   "source": [
    "from sklearn.preprocessing import LabelEncoder\n",
    "le = LabelEncoder()\n",
    "for c in train.columns[:-1]:\n",
    "    if train[c].dtype == np.object:\n",
    "        le.fit(train[c])\n",
    "        train[c] = le.transform(train[c])\n",
    "        test[c] = le.transform(test[c])"
   ]
  },
  {
   "cell_type": "code",
   "execution_count": 77,
   "metadata": {},
   "outputs": [],
   "source": [
    "features = bank.columns.to_list()[:-1]"
   ]
  },
  {
   "cell_type": "code",
   "execution_count": 78,
   "metadata": {
    "tags": []
   },
   "outputs": [],
   "source": [
    "tree = cart(train.y)\n",
    "root = tree.fit(train,features,'y')"
   ]
  },
  {
   "cell_type": "code",
   "execution_count": 79,
   "metadata": {},
   "outputs": [],
   "source": [
    "preds = tree.predict(root,test.iloc[:,:-1])"
   ]
  },
  {
   "cell_type": "code",
   "execution_count": 80,
   "metadata": {},
   "outputs": [
    {
     "output_type": "execute_result",
     "data": {
      "text/plain": [
       "89.71837824714737"
      ]
     },
     "metadata": {},
     "execution_count": 80
    }
   ],
   "source": [
    "tree.accuracy(test.iloc[:,-1].values,preds)"
   ]
  },
  {
   "cell_type": "code",
   "execution_count": 83,
   "metadata": {},
   "outputs": [],
   "source": [
    "chess = pd.read_csv('krkopt.csv')"
   ]
  },
  {
   "cell_type": "code",
   "execution_count": 84,
   "metadata": {},
   "outputs": [
    {
     "output_type": "execute_result",
     "data": {
      "text/plain": [
       "       a  1  b  3  c  2     draw\n",
       "0      a  1  c  1  c  2     draw\n",
       "1      a  1  c  1  d  1     draw\n",
       "2      a  1  c  1  d  2     draw\n",
       "3      a  1  c  2  c  1     draw\n",
       "4      a  1  c  2  c  3     draw\n",
       "...   .. .. .. .. .. ..      ...\n",
       "28050  b  1  g  7  e  5  sixteen\n",
       "28051  b  1  g  7  e  6  sixteen\n",
       "28052  b  1  g  7  e  7  sixteen\n",
       "28053  b  1  g  7  f  5  sixteen\n",
       "28054  b  1  g  7  g  5  sixteen\n",
       "\n",
       "[28055 rows x 7 columns]"
      ],
      "text/html": "<div>\n<style scoped>\n    .dataframe tbody tr th:only-of-type {\n        vertical-align: middle;\n    }\n\n    .dataframe tbody tr th {\n        vertical-align: top;\n    }\n\n    .dataframe thead th {\n        text-align: right;\n    }\n</style>\n<table border=\"1\" class=\"dataframe\">\n  <thead>\n    <tr style=\"text-align: right;\">\n      <th></th>\n      <th>a</th>\n      <th>1</th>\n      <th>b</th>\n      <th>3</th>\n      <th>c</th>\n      <th>2</th>\n      <th>draw</th>\n    </tr>\n  </thead>\n  <tbody>\n    <tr>\n      <th>0</th>\n      <td>a</td>\n      <td>1</td>\n      <td>c</td>\n      <td>1</td>\n      <td>c</td>\n      <td>2</td>\n      <td>draw</td>\n    </tr>\n    <tr>\n      <th>1</th>\n      <td>a</td>\n      <td>1</td>\n      <td>c</td>\n      <td>1</td>\n      <td>d</td>\n      <td>1</td>\n      <td>draw</td>\n    </tr>\n    <tr>\n      <th>2</th>\n      <td>a</td>\n      <td>1</td>\n      <td>c</td>\n      <td>1</td>\n      <td>d</td>\n      <td>2</td>\n      <td>draw</td>\n    </tr>\n    <tr>\n      <th>3</th>\n      <td>a</td>\n      <td>1</td>\n      <td>c</td>\n      <td>2</td>\n      <td>c</td>\n      <td>1</td>\n      <td>draw</td>\n    </tr>\n    <tr>\n      <th>4</th>\n      <td>a</td>\n      <td>1</td>\n      <td>c</td>\n      <td>2</td>\n      <td>c</td>\n      <td>3</td>\n      <td>draw</td>\n    </tr>\n    <tr>\n      <th>...</th>\n      <td>...</td>\n      <td>...</td>\n      <td>...</td>\n      <td>...</td>\n      <td>...</td>\n      <td>...</td>\n      <td>...</td>\n    </tr>\n    <tr>\n      <th>28050</th>\n      <td>b</td>\n      <td>1</td>\n      <td>g</td>\n      <td>7</td>\n      <td>e</td>\n      <td>5</td>\n      <td>sixteen</td>\n    </tr>\n    <tr>\n      <th>28051</th>\n      <td>b</td>\n      <td>1</td>\n      <td>g</td>\n      <td>7</td>\n      <td>e</td>\n      <td>6</td>\n      <td>sixteen</td>\n    </tr>\n    <tr>\n      <th>28052</th>\n      <td>b</td>\n      <td>1</td>\n      <td>g</td>\n      <td>7</td>\n      <td>e</td>\n      <td>7</td>\n      <td>sixteen</td>\n    </tr>\n    <tr>\n      <th>28053</th>\n      <td>b</td>\n      <td>1</td>\n      <td>g</td>\n      <td>7</td>\n      <td>f</td>\n      <td>5</td>\n      <td>sixteen</td>\n    </tr>\n    <tr>\n      <th>28054</th>\n      <td>b</td>\n      <td>1</td>\n      <td>g</td>\n      <td>7</td>\n      <td>g</td>\n      <td>5</td>\n      <td>sixteen</td>\n    </tr>\n  </tbody>\n</table>\n<p>28055 rows × 7 columns</p>\n</div>"
     },
     "metadata": {},
     "execution_count": 84
    }
   ],
   "source": [
    "chess"
   ]
  },
  {
   "cell_type": "code",
   "execution_count": 136,
   "metadata": {},
   "outputs": [],
   "source": [
    "chess['1'] = chess['1'].astype(np.object)\n",
    "chess['2'] = chess['2'].astype(np.object)\n",
    "chess['3'] = chess['3'].astype(np.object)"
   ]
  },
  {
   "cell_type": "code",
   "execution_count": 138,
   "metadata": {},
   "outputs": [],
   "source": [
    "train_c,test_c = train_test_split(chess,test_size=0.2,random_state=0)"
   ]
  },
  {
   "cell_type": "code",
   "execution_count": 139,
   "metadata": {},
   "outputs": [],
   "source": [
    "tree_chess = cart(train_c.draw)"
   ]
  },
  {
   "cell_type": "code",
   "execution_count": 140,
   "metadata": {},
   "outputs": [],
   "source": [
    "features = train_c.columns[:-1].to_list()"
   ]
  },
  {
   "cell_type": "code",
   "execution_count": 141,
   "metadata": {},
   "outputs": [
    {
     "output_type": "error",
     "ename": "KeyboardInterrupt",
     "evalue": "",
     "traceback": [
      "\u001b[0;31m---------------------------------------------------------------------------\u001b[0m",
      "\u001b[0;31mKeyboardInterrupt\u001b[0m                         Traceback (most recent call last)",
      "\u001b[0;32m<ipython-input-141-ae6bf8477e58>\u001b[0m in \u001b[0;36m<module>\u001b[0;34m\u001b[0m\n\u001b[0;32m----> 1\u001b[0;31m \u001b[0mroot_chess\u001b[0m \u001b[0;34m=\u001b[0m \u001b[0mtree_chess\u001b[0m\u001b[0;34m.\u001b[0m\u001b[0mfit\u001b[0m\u001b[0;34m(\u001b[0m\u001b[0mtrain_c\u001b[0m\u001b[0;34m,\u001b[0m\u001b[0mfeatures\u001b[0m\u001b[0;34m,\u001b[0m\u001b[0;34m'draw'\u001b[0m\u001b[0;34m)\u001b[0m\u001b[0;34m\u001b[0m\u001b[0;34m\u001b[0m\u001b[0m\n\u001b[0m",
      "\u001b[0;32m<ipython-input-25-42be55f2a449>\u001b[0m in \u001b[0;36mfit\u001b[0;34m(self, data, features, target)\u001b[0m\n\u001b[1;32m    137\u001b[0m             \u001b[0mattr_values\u001b[0m\u001b[0;34m[\u001b[0m\u001b[0ma\u001b[0m\u001b[0;34m]\u001b[0m \u001b[0;34m=\u001b[0m \u001b[0mnp\u001b[0m\u001b[0;34m.\u001b[0m\u001b[0munique\u001b[0m\u001b[0;34m(\u001b[0m\u001b[0mX\u001b[0m\u001b[0;34m[\u001b[0m\u001b[0ma\u001b[0m\u001b[0;34m]\u001b[0m\u001b[0;34m)\u001b[0m\u001b[0;34m\u001b[0m\u001b[0;34m\u001b[0m\u001b[0m\n\u001b[1;32m    138\u001b[0m         \u001b[0;31m# print(type(attr_values['Outlook']))\u001b[0m\u001b[0;34m\u001b[0m\u001b[0;34m\u001b[0m\u001b[0;34m\u001b[0m\u001b[0m\n\u001b[0;32m--> 139\u001b[0;31m         \u001b[0mroot\u001b[0m \u001b[0;34m=\u001b[0m \u001b[0mself\u001b[0m\u001b[0;34m.\u001b[0m\u001b[0mcart\u001b[0m\u001b[0;34m(\u001b[0m\u001b[0mX\u001b[0m\u001b[0;34m,\u001b[0m\u001b[0my\u001b[0m\u001b[0;34m,\u001b[0m\u001b[0mfeatures\u001b[0m\u001b[0;34m,\u001b[0m\u001b[0mattr_values\u001b[0m\u001b[0;34m)\u001b[0m\u001b[0;34m\u001b[0m\u001b[0;34m\u001b[0m\u001b[0m\n\u001b[0m\u001b[1;32m    140\u001b[0m         \u001b[0;32mreturn\u001b[0m \u001b[0mroot\u001b[0m\u001b[0;34m\u001b[0m\u001b[0;34m\u001b[0m\u001b[0m\n\u001b[1;32m    141\u001b[0m     \u001b[0;32mdef\u001b[0m \u001b[0mfindPath\u001b[0m\u001b[0;34m(\u001b[0m\u001b[0mself\u001b[0m\u001b[0;34m,\u001b[0m\u001b[0mx\u001b[0m\u001b[0;34m,\u001b[0m\u001b[0mroot\u001b[0m\u001b[0;34m)\u001b[0m\u001b[0;34m:\u001b[0m\u001b[0;34m\u001b[0m\u001b[0;34m\u001b[0m\u001b[0m\n",
      "\u001b[0;32m<ipython-input-25-42be55f2a449>\u001b[0m in \u001b[0;36mcart\u001b[0;34m(self, X, y, features, attr_values)\u001b[0m\n\u001b[1;32m    103\u001b[0m                 \u001b[0mroot\u001b[0m\u001b[0;34m.\u001b[0m\u001b[0mnext\u001b[0m\u001b[0;34m.\u001b[0m\u001b[0mappend\u001b[0m\u001b[0;34m(\u001b[0m\u001b[0;34m(\u001b[0m\u001b[0mset1\u001b[0m\u001b[0;34m,\u001b[0m\u001b[0mtemp\u001b[0m\u001b[0;34m)\u001b[0m\u001b[0;34m)\u001b[0m\u001b[0;34m\u001b[0m\u001b[0;34m\u001b[0m\u001b[0m\n\u001b[1;32m    104\u001b[0m             \u001b[0;32melse\u001b[0m\u001b[0;34m:\u001b[0m\u001b[0;34m\u001b[0m\u001b[0;34m\u001b[0m\u001b[0m\n\u001b[0;32m--> 105\u001b[0;31m                 \u001b[0mtemp\u001b[0m \u001b[0;34m=\u001b[0m \u001b[0mself\u001b[0m\u001b[0;34m.\u001b[0m\u001b[0mcart\u001b[0m\u001b[0;34m(\u001b[0m\u001b[0mX_v1\u001b[0m\u001b[0;34m,\u001b[0m\u001b[0my_v1\u001b[0m\u001b[0;34m,\u001b[0m\u001b[0mfeatures\u001b[0m\u001b[0;34m[\u001b[0m\u001b[0;36m0\u001b[0m\u001b[0;34m:\u001b[0m\u001b[0mattr_index\u001b[0m\u001b[0;34m]\u001b[0m\u001b[0;34m+\u001b[0m\u001b[0mfeatures\u001b[0m\u001b[0;34m[\u001b[0m\u001b[0mattr_index\u001b[0m\u001b[0;34m+\u001b[0m\u001b[0;36m1\u001b[0m\u001b[0;34m:\u001b[0m\u001b[0;34m]\u001b[0m\u001b[0;34m,\u001b[0m\u001b[0mattr_values\u001b[0m\u001b[0;34m)\u001b[0m\u001b[0;34m\u001b[0m\u001b[0;34m\u001b[0m\u001b[0m\n\u001b[0m\u001b[1;32m    106\u001b[0m                 \u001b[0mroot\u001b[0m\u001b[0;34m.\u001b[0m\u001b[0mnext\u001b[0m\u001b[0;34m.\u001b[0m\u001b[0mappend\u001b[0m\u001b[0;34m(\u001b[0m\u001b[0;34m(\u001b[0m\u001b[0mset1\u001b[0m\u001b[0;34m,\u001b[0m\u001b[0mtemp\u001b[0m\u001b[0;34m)\u001b[0m\u001b[0;34m)\u001b[0m\u001b[0;34m\u001b[0m\u001b[0;34m\u001b[0m\u001b[0m\n\u001b[1;32m    107\u001b[0m             \u001b[0;32mif\u001b[0m \u001b[0;32mnot\u001b[0m \u001b[0mlen\u001b[0m\u001b[0;34m(\u001b[0m\u001b[0mX_v2\u001b[0m\u001b[0;34m)\u001b[0m\u001b[0;34m:\u001b[0m\u001b[0;34m\u001b[0m\u001b[0;34m\u001b[0m\u001b[0m\n",
      "\u001b[0;32m<ipython-input-25-42be55f2a449>\u001b[0m in \u001b[0;36mcart\u001b[0;34m(self, X, y, features, attr_values)\u001b[0m\n\u001b[1;32m    110\u001b[0m                 \u001b[0mroot\u001b[0m\u001b[0;34m.\u001b[0m\u001b[0mnext\u001b[0m\u001b[0;34m.\u001b[0m\u001b[0mappend\u001b[0m\u001b[0;34m(\u001b[0m\u001b[0;34m(\u001b[0m\u001b[0mset2\u001b[0m\u001b[0;34m,\u001b[0m\u001b[0mtemp\u001b[0m\u001b[0;34m)\u001b[0m\u001b[0;34m)\u001b[0m\u001b[0;34m\u001b[0m\u001b[0;34m\u001b[0m\u001b[0m\n\u001b[1;32m    111\u001b[0m             \u001b[0;32melse\u001b[0m\u001b[0;34m:\u001b[0m\u001b[0;34m\u001b[0m\u001b[0;34m\u001b[0m\u001b[0m\n\u001b[0;32m--> 112\u001b[0;31m                 \u001b[0mtemp\u001b[0m \u001b[0;34m=\u001b[0m \u001b[0mself\u001b[0m\u001b[0;34m.\u001b[0m\u001b[0mcart\u001b[0m\u001b[0;34m(\u001b[0m\u001b[0mX_v2\u001b[0m\u001b[0;34m,\u001b[0m\u001b[0my_v2\u001b[0m\u001b[0;34m,\u001b[0m\u001b[0mfeatures\u001b[0m\u001b[0;34m[\u001b[0m\u001b[0;36m0\u001b[0m\u001b[0;34m:\u001b[0m\u001b[0mattr_index\u001b[0m\u001b[0;34m]\u001b[0m\u001b[0;34m+\u001b[0m\u001b[0mfeatures\u001b[0m\u001b[0;34m[\u001b[0m\u001b[0mattr_index\u001b[0m\u001b[0;34m+\u001b[0m\u001b[0;36m1\u001b[0m\u001b[0;34m:\u001b[0m\u001b[0;34m]\u001b[0m\u001b[0;34m,\u001b[0m\u001b[0mattr_values\u001b[0m\u001b[0;34m)\u001b[0m\u001b[0;34m\u001b[0m\u001b[0;34m\u001b[0m\u001b[0m\n\u001b[0m\u001b[1;32m    113\u001b[0m                 \u001b[0mroot\u001b[0m\u001b[0;34m.\u001b[0m\u001b[0mnext\u001b[0m\u001b[0;34m.\u001b[0m\u001b[0mappend\u001b[0m\u001b[0;34m(\u001b[0m\u001b[0;34m(\u001b[0m\u001b[0mset2\u001b[0m\u001b[0;34m,\u001b[0m\u001b[0mtemp\u001b[0m\u001b[0;34m)\u001b[0m\u001b[0;34m)\u001b[0m\u001b[0;34m\u001b[0m\u001b[0;34m\u001b[0m\u001b[0m\n\u001b[1;32m    114\u001b[0m         \u001b[0;32melse\u001b[0m\u001b[0;34m:\u001b[0m\u001b[0;34m\u001b[0m\u001b[0;34m\u001b[0m\u001b[0m\n",
      "\u001b[0;32m<ipython-input-25-42be55f2a449>\u001b[0m in \u001b[0;36mcart\u001b[0;34m(self, X, y, features, attr_values)\u001b[0m\n\u001b[1;32m    110\u001b[0m                 \u001b[0mroot\u001b[0m\u001b[0;34m.\u001b[0m\u001b[0mnext\u001b[0m\u001b[0;34m.\u001b[0m\u001b[0mappend\u001b[0m\u001b[0;34m(\u001b[0m\u001b[0;34m(\u001b[0m\u001b[0mset2\u001b[0m\u001b[0;34m,\u001b[0m\u001b[0mtemp\u001b[0m\u001b[0;34m)\u001b[0m\u001b[0;34m)\u001b[0m\u001b[0;34m\u001b[0m\u001b[0;34m\u001b[0m\u001b[0m\n\u001b[1;32m    111\u001b[0m             \u001b[0;32melse\u001b[0m\u001b[0;34m:\u001b[0m\u001b[0;34m\u001b[0m\u001b[0;34m\u001b[0m\u001b[0m\n\u001b[0;32m--> 112\u001b[0;31m                 \u001b[0mtemp\u001b[0m \u001b[0;34m=\u001b[0m \u001b[0mself\u001b[0m\u001b[0;34m.\u001b[0m\u001b[0mcart\u001b[0m\u001b[0;34m(\u001b[0m\u001b[0mX_v2\u001b[0m\u001b[0;34m,\u001b[0m\u001b[0my_v2\u001b[0m\u001b[0;34m,\u001b[0m\u001b[0mfeatures\u001b[0m\u001b[0;34m[\u001b[0m\u001b[0;36m0\u001b[0m\u001b[0;34m:\u001b[0m\u001b[0mattr_index\u001b[0m\u001b[0;34m]\u001b[0m\u001b[0;34m+\u001b[0m\u001b[0mfeatures\u001b[0m\u001b[0;34m[\u001b[0m\u001b[0mattr_index\u001b[0m\u001b[0;34m+\u001b[0m\u001b[0;36m1\u001b[0m\u001b[0;34m:\u001b[0m\u001b[0;34m]\u001b[0m\u001b[0;34m,\u001b[0m\u001b[0mattr_values\u001b[0m\u001b[0;34m)\u001b[0m\u001b[0;34m\u001b[0m\u001b[0;34m\u001b[0m\u001b[0m\n\u001b[0m\u001b[1;32m    113\u001b[0m                 \u001b[0mroot\u001b[0m\u001b[0;34m.\u001b[0m\u001b[0mnext\u001b[0m\u001b[0;34m.\u001b[0m\u001b[0mappend\u001b[0m\u001b[0;34m(\u001b[0m\u001b[0;34m(\u001b[0m\u001b[0mset2\u001b[0m\u001b[0;34m,\u001b[0m\u001b[0mtemp\u001b[0m\u001b[0;34m)\u001b[0m\u001b[0;34m)\u001b[0m\u001b[0;34m\u001b[0m\u001b[0;34m\u001b[0m\u001b[0m\n\u001b[1;32m    114\u001b[0m         \u001b[0;32melse\u001b[0m\u001b[0;34m:\u001b[0m\u001b[0;34m\u001b[0m\u001b[0;34m\u001b[0m\u001b[0m\n",
      "\u001b[0;32m<ipython-input-25-42be55f2a449>\u001b[0m in \u001b[0;36mcart\u001b[0;34m(self, X, y, features, attr_values)\u001b[0m\n\u001b[1;32m    110\u001b[0m                 \u001b[0mroot\u001b[0m\u001b[0;34m.\u001b[0m\u001b[0mnext\u001b[0m\u001b[0;34m.\u001b[0m\u001b[0mappend\u001b[0m\u001b[0;34m(\u001b[0m\u001b[0;34m(\u001b[0m\u001b[0mset2\u001b[0m\u001b[0;34m,\u001b[0m\u001b[0mtemp\u001b[0m\u001b[0;34m)\u001b[0m\u001b[0;34m)\u001b[0m\u001b[0;34m\u001b[0m\u001b[0;34m\u001b[0m\u001b[0m\n\u001b[1;32m    111\u001b[0m             \u001b[0;32melse\u001b[0m\u001b[0;34m:\u001b[0m\u001b[0;34m\u001b[0m\u001b[0;34m\u001b[0m\u001b[0m\n\u001b[0;32m--> 112\u001b[0;31m                 \u001b[0mtemp\u001b[0m \u001b[0;34m=\u001b[0m \u001b[0mself\u001b[0m\u001b[0;34m.\u001b[0m\u001b[0mcart\u001b[0m\u001b[0;34m(\u001b[0m\u001b[0mX_v2\u001b[0m\u001b[0;34m,\u001b[0m\u001b[0my_v2\u001b[0m\u001b[0;34m,\u001b[0m\u001b[0mfeatures\u001b[0m\u001b[0;34m[\u001b[0m\u001b[0;36m0\u001b[0m\u001b[0;34m:\u001b[0m\u001b[0mattr_index\u001b[0m\u001b[0;34m]\u001b[0m\u001b[0;34m+\u001b[0m\u001b[0mfeatures\u001b[0m\u001b[0;34m[\u001b[0m\u001b[0mattr_index\u001b[0m\u001b[0;34m+\u001b[0m\u001b[0;36m1\u001b[0m\u001b[0;34m:\u001b[0m\u001b[0;34m]\u001b[0m\u001b[0;34m,\u001b[0m\u001b[0mattr_values\u001b[0m\u001b[0;34m)\u001b[0m\u001b[0;34m\u001b[0m\u001b[0;34m\u001b[0m\u001b[0m\n\u001b[0m\u001b[1;32m    113\u001b[0m                 \u001b[0mroot\u001b[0m\u001b[0;34m.\u001b[0m\u001b[0mnext\u001b[0m\u001b[0;34m.\u001b[0m\u001b[0mappend\u001b[0m\u001b[0;34m(\u001b[0m\u001b[0;34m(\u001b[0m\u001b[0mset2\u001b[0m\u001b[0;34m,\u001b[0m\u001b[0mtemp\u001b[0m\u001b[0;34m)\u001b[0m\u001b[0;34m)\u001b[0m\u001b[0;34m\u001b[0m\u001b[0;34m\u001b[0m\u001b[0m\n\u001b[1;32m    114\u001b[0m         \u001b[0;32melse\u001b[0m\u001b[0;34m:\u001b[0m\u001b[0;34m\u001b[0m\u001b[0;34m\u001b[0m\u001b[0m\n",
      "\u001b[0;32m<ipython-input-25-42be55f2a449>\u001b[0m in \u001b[0;36mcart\u001b[0;34m(self, X, y, features, attr_values)\u001b[0m\n\u001b[1;32m    103\u001b[0m                 \u001b[0mroot\u001b[0m\u001b[0;34m.\u001b[0m\u001b[0mnext\u001b[0m\u001b[0;34m.\u001b[0m\u001b[0mappend\u001b[0m\u001b[0;34m(\u001b[0m\u001b[0;34m(\u001b[0m\u001b[0mset1\u001b[0m\u001b[0;34m,\u001b[0m\u001b[0mtemp\u001b[0m\u001b[0;34m)\u001b[0m\u001b[0;34m)\u001b[0m\u001b[0;34m\u001b[0m\u001b[0;34m\u001b[0m\u001b[0m\n\u001b[1;32m    104\u001b[0m             \u001b[0;32melse\u001b[0m\u001b[0;34m:\u001b[0m\u001b[0;34m\u001b[0m\u001b[0;34m\u001b[0m\u001b[0m\n\u001b[0;32m--> 105\u001b[0;31m                 \u001b[0mtemp\u001b[0m \u001b[0;34m=\u001b[0m \u001b[0mself\u001b[0m\u001b[0;34m.\u001b[0m\u001b[0mcart\u001b[0m\u001b[0;34m(\u001b[0m\u001b[0mX_v1\u001b[0m\u001b[0;34m,\u001b[0m\u001b[0my_v1\u001b[0m\u001b[0;34m,\u001b[0m\u001b[0mfeatures\u001b[0m\u001b[0;34m[\u001b[0m\u001b[0;36m0\u001b[0m\u001b[0;34m:\u001b[0m\u001b[0mattr_index\u001b[0m\u001b[0;34m]\u001b[0m\u001b[0;34m+\u001b[0m\u001b[0mfeatures\u001b[0m\u001b[0;34m[\u001b[0m\u001b[0mattr_index\u001b[0m\u001b[0;34m+\u001b[0m\u001b[0;36m1\u001b[0m\u001b[0;34m:\u001b[0m\u001b[0;34m]\u001b[0m\u001b[0;34m,\u001b[0m\u001b[0mattr_values\u001b[0m\u001b[0;34m)\u001b[0m\u001b[0;34m\u001b[0m\u001b[0;34m\u001b[0m\u001b[0m\n\u001b[0m\u001b[1;32m    106\u001b[0m                 \u001b[0mroot\u001b[0m\u001b[0;34m.\u001b[0m\u001b[0mnext\u001b[0m\u001b[0;34m.\u001b[0m\u001b[0mappend\u001b[0m\u001b[0;34m(\u001b[0m\u001b[0;34m(\u001b[0m\u001b[0mset1\u001b[0m\u001b[0;34m,\u001b[0m\u001b[0mtemp\u001b[0m\u001b[0;34m)\u001b[0m\u001b[0;34m)\u001b[0m\u001b[0;34m\u001b[0m\u001b[0;34m\u001b[0m\u001b[0m\n\u001b[1;32m    107\u001b[0m             \u001b[0;32mif\u001b[0m \u001b[0;32mnot\u001b[0m \u001b[0mlen\u001b[0m\u001b[0;34m(\u001b[0m\u001b[0mX_v2\u001b[0m\u001b[0;34m)\u001b[0m\u001b[0;34m:\u001b[0m\u001b[0;34m\u001b[0m\u001b[0;34m\u001b[0m\u001b[0m\n",
      "\u001b[0;32m<ipython-input-25-42be55f2a449>\u001b[0m in \u001b[0;36mcart\u001b[0;34m(self, X, y, features, attr_values)\u001b[0m\n\u001b[1;32m     87\u001b[0m             \u001b[0mroot\u001b[0m\u001b[0;34m.\u001b[0m\u001b[0mlabel\u001b[0m \u001b[0;34m=\u001b[0m \u001b[0mstats\u001b[0m\u001b[0;34m.\u001b[0m\u001b[0mmode\u001b[0m\u001b[0;34m(\u001b[0m\u001b[0my\u001b[0m\u001b[0;34m)\u001b[0m\u001b[0;34m[\u001b[0m\u001b[0;36m0\u001b[0m\u001b[0;34m]\u001b[0m\u001b[0;34m[\u001b[0m\u001b[0;36m0\u001b[0m\u001b[0;34m]\u001b[0m\u001b[0;34m\u001b[0m\u001b[0;34m\u001b[0m\u001b[0m\n\u001b[1;32m     88\u001b[0m             \u001b[0;32mreturn\u001b[0m \u001b[0mroot\u001b[0m\u001b[0;34m\u001b[0m\u001b[0;34m\u001b[0m\u001b[0m\n\u001b[0;32m---> 89\u001b[0;31m         \u001b[0mattr_index\u001b[0m\u001b[0;34m,\u001b[0m\u001b[0msp\u001b[0m \u001b[0;34m=\u001b[0m \u001b[0mself\u001b[0m\u001b[0;34m.\u001b[0m\u001b[0mselectBestAttr\u001b[0m\u001b[0;34m(\u001b[0m\u001b[0mX\u001b[0m\u001b[0;34m,\u001b[0m\u001b[0my\u001b[0m\u001b[0;34m,\u001b[0m\u001b[0mfeatures\u001b[0m\u001b[0;34m,\u001b[0m\u001b[0mattr_values\u001b[0m\u001b[0;34m)\u001b[0m\u001b[0;34m\u001b[0m\u001b[0;34m\u001b[0m\u001b[0m\n\u001b[0m\u001b[1;32m     90\u001b[0m         \u001b[0;32mif\u001b[0m \u001b[0msp\u001b[0m \u001b[0;34m==\u001b[0m \u001b[0;32mNone\u001b[0m\u001b[0;34m:\u001b[0m\u001b[0;34m\u001b[0m\u001b[0;34m\u001b[0m\u001b[0m\n\u001b[1;32m     91\u001b[0m             \u001b[0mroot\u001b[0m\u001b[0;34m.\u001b[0m\u001b[0mlabel\u001b[0m \u001b[0;34m=\u001b[0m \u001b[0mstats\u001b[0m\u001b[0;34m.\u001b[0m\u001b[0mmode\u001b[0m\u001b[0;34m(\u001b[0m\u001b[0my\u001b[0m\u001b[0;34m)\u001b[0m\u001b[0;34m[\u001b[0m\u001b[0;36m0\u001b[0m\u001b[0;34m]\u001b[0m\u001b[0;34m[\u001b[0m\u001b[0;36m0\u001b[0m\u001b[0;34m]\u001b[0m\u001b[0;34m\u001b[0m\u001b[0;34m\u001b[0m\u001b[0m\n",
      "\u001b[0;32m<ipython-input-25-42be55f2a449>\u001b[0m in \u001b[0;36mselectBestAttr\u001b[0;34m(self, X, y, features, attr_values)\u001b[0m\n\u001b[1;32m     60\u001b[0m                             \u001b[0mtemp\u001b[0m \u001b[0;34m=\u001b[0m \u001b[0mself\u001b[0m\u001b[0;34m.\u001b[0m\u001b[0mgini\u001b[0m\u001b[0;34m(\u001b[0m\u001b[0my_v1\u001b[0m\u001b[0;34m)\u001b[0m\u001b[0;34m\u001b[0m\u001b[0;34m\u001b[0m\u001b[0m\n\u001b[1;32m     61\u001b[0m                         \u001b[0;32melse\u001b[0m\u001b[0;34m:\u001b[0m\u001b[0;34m\u001b[0m\u001b[0;34m\u001b[0m\u001b[0m\n\u001b[0;32m---> 62\u001b[0;31m                             \u001b[0mtemp\u001b[0m \u001b[0;34m=\u001b[0m \u001b[0;34m(\u001b[0m\u001b[0mlen\u001b[0m\u001b[0;34m(\u001b[0m\u001b[0my_v1\u001b[0m\u001b[0;34m)\u001b[0m\u001b[0;34m*\u001b[0m\u001b[0mself\u001b[0m\u001b[0;34m.\u001b[0m\u001b[0mgini\u001b[0m\u001b[0;34m(\u001b[0m\u001b[0my_v1\u001b[0m\u001b[0;34m)\u001b[0m\u001b[0;34m+\u001b[0m\u001b[0mlen\u001b[0m\u001b[0;34m(\u001b[0m\u001b[0my_v2\u001b[0m\u001b[0;34m)\u001b[0m\u001b[0;34m*\u001b[0m\u001b[0mself\u001b[0m\u001b[0;34m.\u001b[0m\u001b[0mgini\u001b[0m\u001b[0;34m(\u001b[0m\u001b[0my_v2\u001b[0m\u001b[0;34m)\u001b[0m\u001b[0;34m)\u001b[0m\u001b[0;34m/\u001b[0m\u001b[0mlen\u001b[0m\u001b[0;34m(\u001b[0m\u001b[0my\u001b[0m\u001b[0;34m)\u001b[0m\u001b[0;34m\u001b[0m\u001b[0;34m\u001b[0m\u001b[0m\n\u001b[0m\u001b[1;32m     63\u001b[0m                         \u001b[0;32mif\u001b[0m \u001b[0mtemp\u001b[0m \u001b[0;34m<\u001b[0m \u001b[0mg_a\u001b[0m\u001b[0;34m:\u001b[0m\u001b[0;34m\u001b[0m\u001b[0;34m\u001b[0m\u001b[0m\n\u001b[1;32m     64\u001b[0m                             \u001b[0mg_a\u001b[0m \u001b[0;34m=\u001b[0m \u001b[0mtemp\u001b[0m\u001b[0;34m\u001b[0m\u001b[0;34m\u001b[0m\u001b[0m\n",
      "\u001b[0;32m<ipython-input-25-42be55f2a449>\u001b[0m in \u001b[0;36mgini\u001b[0;34m(self, y)\u001b[0m\n\u001b[1;32m      5\u001b[0m         \u001b[0mg_a\u001b[0m \u001b[0;34m=\u001b[0m \u001b[0;36m0\u001b[0m\u001b[0;34m\u001b[0m\u001b[0;34m\u001b[0m\u001b[0m\n\u001b[1;32m      6\u001b[0m         \u001b[0;32mfor\u001b[0m \u001b[0mc\u001b[0m \u001b[0;32min\u001b[0m \u001b[0mself\u001b[0m\u001b[0;34m.\u001b[0m\u001b[0mclasses_\u001b[0m\u001b[0;34m:\u001b[0m\u001b[0;34m\u001b[0m\u001b[0;34m\u001b[0m\u001b[0m\n\u001b[0;32m----> 7\u001b[0;31m             \u001b[0mprop\u001b[0m \u001b[0;34m=\u001b[0m \u001b[0mnp\u001b[0m\u001b[0;34m.\u001b[0m\u001b[0msum\u001b[0m\u001b[0;34m(\u001b[0m\u001b[0my\u001b[0m\u001b[0;34m==\u001b[0m\u001b[0mc\u001b[0m\u001b[0;34m)\u001b[0m\u001b[0;34m/\u001b[0m\u001b[0mlen\u001b[0m\u001b[0;34m(\u001b[0m\u001b[0my\u001b[0m\u001b[0;34m)\u001b[0m\u001b[0;34m\u001b[0m\u001b[0;34m\u001b[0m\u001b[0m\n\u001b[0m\u001b[1;32m      8\u001b[0m             \u001b[0mg_a\u001b[0m\u001b[0;34m+=\u001b[0m\u001b[0mprop\u001b[0m\u001b[0;34m*\u001b[0m\u001b[0mprop\u001b[0m\u001b[0;34m\u001b[0m\u001b[0;34m\u001b[0m\u001b[0m\n\u001b[1;32m      9\u001b[0m         \u001b[0;32mreturn\u001b[0m \u001b[0;36m1\u001b[0m\u001b[0;34m-\u001b[0m\u001b[0mg_a\u001b[0m\u001b[0;34m\u001b[0m\u001b[0;34m\u001b[0m\u001b[0m\n",
      "\u001b[0;32m/usr/lib/python3/dist-packages/pandas/core/ops/common.py\u001b[0m in \u001b[0;36mnew_method\u001b[0;34m(self, other)\u001b[0m\n\u001b[1;32m     63\u001b[0m         \u001b[0mother\u001b[0m \u001b[0;34m=\u001b[0m \u001b[0mitem_from_zerodim\u001b[0m\u001b[0;34m(\u001b[0m\u001b[0mother\u001b[0m\u001b[0;34m)\u001b[0m\u001b[0;34m\u001b[0m\u001b[0;34m\u001b[0m\u001b[0m\n\u001b[1;32m     64\u001b[0m \u001b[0;34m\u001b[0m\u001b[0m\n\u001b[0;32m---> 65\u001b[0;31m         \u001b[0;32mreturn\u001b[0m \u001b[0mmethod\u001b[0m\u001b[0;34m(\u001b[0m\u001b[0mself\u001b[0m\u001b[0;34m,\u001b[0m \u001b[0mother\u001b[0m\u001b[0;34m)\u001b[0m\u001b[0;34m\u001b[0m\u001b[0;34m\u001b[0m\u001b[0m\n\u001b[0m\u001b[1;32m     66\u001b[0m \u001b[0;34m\u001b[0m\u001b[0m\n\u001b[1;32m     67\u001b[0m     \u001b[0;32mreturn\u001b[0m \u001b[0mnew_method\u001b[0m\u001b[0;34m\u001b[0m\u001b[0;34m\u001b[0m\u001b[0m\n",
      "\u001b[0;32m/usr/lib/python3/dist-packages/pandas/core/ops/__init__.py\u001b[0m in \u001b[0;36mwrapper\u001b[0;34m(self, other)\u001b[0m\n\u001b[1;32m    370\u001b[0m         \u001b[0mres_values\u001b[0m \u001b[0;34m=\u001b[0m \u001b[0mcomparison_op\u001b[0m\u001b[0;34m(\u001b[0m\u001b[0mlvalues\u001b[0m\u001b[0;34m,\u001b[0m \u001b[0mrvalues\u001b[0m\u001b[0;34m,\u001b[0m \u001b[0mop\u001b[0m\u001b[0;34m)\u001b[0m\u001b[0;34m\u001b[0m\u001b[0;34m\u001b[0m\u001b[0m\n\u001b[1;32m    371\u001b[0m \u001b[0;34m\u001b[0m\u001b[0m\n\u001b[0;32m--> 372\u001b[0;31m         \u001b[0;32mreturn\u001b[0m \u001b[0mself\u001b[0m\u001b[0;34m.\u001b[0m\u001b[0m_construct_result\u001b[0m\u001b[0;34m(\u001b[0m\u001b[0mres_values\u001b[0m\u001b[0;34m,\u001b[0m \u001b[0mname\u001b[0m\u001b[0;34m=\u001b[0m\u001b[0mres_name\u001b[0m\u001b[0;34m)\u001b[0m\u001b[0;34m\u001b[0m\u001b[0;34m\u001b[0m\u001b[0m\n\u001b[0m\u001b[1;32m    373\u001b[0m \u001b[0;34m\u001b[0m\u001b[0m\n\u001b[1;32m    374\u001b[0m     \u001b[0mwrapper\u001b[0m\u001b[0;34m.\u001b[0m\u001b[0m__name__\u001b[0m \u001b[0;34m=\u001b[0m \u001b[0mop_name\u001b[0m\u001b[0;34m\u001b[0m\u001b[0;34m\u001b[0m\u001b[0m\n",
      "\u001b[0;32m/usr/lib/python3/dist-packages/pandas/core/series.py\u001b[0m in \u001b[0;36m_construct_result\u001b[0;34m(self, result, name)\u001b[0m\n\u001b[1;32m   2768\u001b[0m         \u001b[0;31m# We do not pass dtype to ensure that the Series constructor\u001b[0m\u001b[0;34m\u001b[0m\u001b[0;34m\u001b[0m\u001b[0;34m\u001b[0m\u001b[0m\n\u001b[1;32m   2769\u001b[0m         \u001b[0;31m#  does inference in the case where `result` has object-dtype.\u001b[0m\u001b[0;34m\u001b[0m\u001b[0;34m\u001b[0m\u001b[0;34m\u001b[0m\u001b[0m\n\u001b[0;32m-> 2770\u001b[0;31m         \u001b[0mout\u001b[0m \u001b[0;34m=\u001b[0m \u001b[0mself\u001b[0m\u001b[0;34m.\u001b[0m\u001b[0m_constructor\u001b[0m\u001b[0;34m(\u001b[0m\u001b[0mresult\u001b[0m\u001b[0;34m,\u001b[0m \u001b[0mindex\u001b[0m\u001b[0;34m=\u001b[0m\u001b[0mself\u001b[0m\u001b[0;34m.\u001b[0m\u001b[0mindex\u001b[0m\u001b[0;34m)\u001b[0m\u001b[0;34m\u001b[0m\u001b[0;34m\u001b[0m\u001b[0m\n\u001b[0m\u001b[1;32m   2771\u001b[0m         \u001b[0mout\u001b[0m \u001b[0;34m=\u001b[0m \u001b[0mout\u001b[0m\u001b[0;34m.\u001b[0m\u001b[0m__finalize__\u001b[0m\u001b[0;34m(\u001b[0m\u001b[0mself\u001b[0m\u001b[0;34m)\u001b[0m\u001b[0;34m\u001b[0m\u001b[0;34m\u001b[0m\u001b[0m\n\u001b[1;32m   2772\u001b[0m \u001b[0;34m\u001b[0m\u001b[0m\n",
      "\u001b[0;32m/usr/lib/python3/dist-packages/pandas/core/series.py\u001b[0m in \u001b[0;36m__init__\u001b[0;34m(self, data, index, dtype, name, copy, fastpath)\u001b[0m\n\u001b[1;32m    327\u001b[0m                 \u001b[0mdata\u001b[0m \u001b[0;34m=\u001b[0m \u001b[0msanitize_array\u001b[0m\u001b[0;34m(\u001b[0m\u001b[0mdata\u001b[0m\u001b[0;34m,\u001b[0m \u001b[0mindex\u001b[0m\u001b[0;34m,\u001b[0m \u001b[0mdtype\u001b[0m\u001b[0;34m,\u001b[0m \u001b[0mcopy\u001b[0m\u001b[0;34m,\u001b[0m \u001b[0mraise_cast_failure\u001b[0m\u001b[0;34m=\u001b[0m\u001b[0;32mTrue\u001b[0m\u001b[0;34m)\u001b[0m\u001b[0;34m\u001b[0m\u001b[0;34m\u001b[0m\u001b[0m\n\u001b[1;32m    328\u001b[0m \u001b[0;34m\u001b[0m\u001b[0m\n\u001b[0;32m--> 329\u001b[0;31m                 \u001b[0mdata\u001b[0m \u001b[0;34m=\u001b[0m \u001b[0mSingleBlockManager\u001b[0m\u001b[0;34m.\u001b[0m\u001b[0mfrom_array\u001b[0m\u001b[0;34m(\u001b[0m\u001b[0mdata\u001b[0m\u001b[0;34m,\u001b[0m \u001b[0mindex\u001b[0m\u001b[0;34m)\u001b[0m\u001b[0;34m\u001b[0m\u001b[0;34m\u001b[0m\u001b[0m\n\u001b[0m\u001b[1;32m    330\u001b[0m \u001b[0;34m\u001b[0m\u001b[0m\n\u001b[1;32m    331\u001b[0m         \u001b[0mgeneric\u001b[0m\u001b[0;34m.\u001b[0m\u001b[0mNDFrame\u001b[0m\u001b[0;34m.\u001b[0m\u001b[0m__init__\u001b[0m\u001b[0;34m(\u001b[0m\u001b[0mself\u001b[0m\u001b[0;34m,\u001b[0m \u001b[0mdata\u001b[0m\u001b[0;34m)\u001b[0m\u001b[0;34m\u001b[0m\u001b[0;34m\u001b[0m\u001b[0m\n",
      "\u001b[0;32m/usr/lib/python3/dist-packages/pandas/core/internals/managers.py\u001b[0m in \u001b[0;36mfrom_array\u001b[0;34m(cls, array, index)\u001b[0m\n\u001b[1;32m   1576\u001b[0m         \u001b[0mConstructor\u001b[0m \u001b[0;32mfor\u001b[0m \u001b[0;32mif\u001b[0m \u001b[0mwe\u001b[0m \u001b[0mhave\u001b[0m \u001b[0man\u001b[0m \u001b[0marray\u001b[0m \u001b[0mthat\u001b[0m \u001b[0;32mis\u001b[0m \u001b[0;32mnot\u001b[0m \u001b[0myet\u001b[0m \u001b[0ma\u001b[0m \u001b[0mBlock\u001b[0m\u001b[0;34m.\u001b[0m\u001b[0;34m\u001b[0m\u001b[0;34m\u001b[0m\u001b[0m\n\u001b[1;32m   1577\u001b[0m         \"\"\"\n\u001b[0;32m-> 1578\u001b[0;31m         \u001b[0mblock\u001b[0m \u001b[0;34m=\u001b[0m \u001b[0mmake_block\u001b[0m\u001b[0;34m(\u001b[0m\u001b[0marray\u001b[0m\u001b[0;34m,\u001b[0m \u001b[0mplacement\u001b[0m\u001b[0;34m=\u001b[0m\u001b[0mslice\u001b[0m\u001b[0;34m(\u001b[0m\u001b[0;36m0\u001b[0m\u001b[0;34m,\u001b[0m \u001b[0mlen\u001b[0m\u001b[0;34m(\u001b[0m\u001b[0mindex\u001b[0m\u001b[0;34m)\u001b[0m\u001b[0;34m)\u001b[0m\u001b[0;34m,\u001b[0m \u001b[0mndim\u001b[0m\u001b[0;34m=\u001b[0m\u001b[0;36m1\u001b[0m\u001b[0;34m)\u001b[0m\u001b[0;34m\u001b[0m\u001b[0;34m\u001b[0m\u001b[0m\n\u001b[0m\u001b[1;32m   1579\u001b[0m         \u001b[0;32mreturn\u001b[0m \u001b[0mcls\u001b[0m\u001b[0;34m(\u001b[0m\u001b[0mblock\u001b[0m\u001b[0;34m,\u001b[0m \u001b[0mindex\u001b[0m\u001b[0;34m)\u001b[0m\u001b[0;34m\u001b[0m\u001b[0;34m\u001b[0m\u001b[0m\n\u001b[1;32m   1580\u001b[0m \u001b[0;34m\u001b[0m\u001b[0m\n",
      "\u001b[0;32m/usr/lib/python3/dist-packages/pandas/core/internals/blocks.py\u001b[0m in \u001b[0;36mmake_block\u001b[0;34m(values, placement, klass, ndim, dtype)\u001b[0m\n\u001b[1;32m   2735\u001b[0m     \u001b[0;32mif\u001b[0m \u001b[0mklass\u001b[0m \u001b[0;32mis\u001b[0m \u001b[0;32mNone\u001b[0m\u001b[0;34m:\u001b[0m\u001b[0;34m\u001b[0m\u001b[0;34m\u001b[0m\u001b[0m\n\u001b[1;32m   2736\u001b[0m         \u001b[0mdtype\u001b[0m \u001b[0;34m=\u001b[0m \u001b[0mdtype\u001b[0m \u001b[0;32mor\u001b[0m \u001b[0mvalues\u001b[0m\u001b[0;34m.\u001b[0m\u001b[0mdtype\u001b[0m\u001b[0;34m\u001b[0m\u001b[0;34m\u001b[0m\u001b[0m\n\u001b[0;32m-> 2737\u001b[0;31m         \u001b[0mklass\u001b[0m \u001b[0;34m=\u001b[0m \u001b[0mget_block_type\u001b[0m\u001b[0;34m(\u001b[0m\u001b[0mvalues\u001b[0m\u001b[0;34m,\u001b[0m \u001b[0mdtype\u001b[0m\u001b[0;34m)\u001b[0m\u001b[0;34m\u001b[0m\u001b[0;34m\u001b[0m\u001b[0m\n\u001b[0m\u001b[1;32m   2738\u001b[0m \u001b[0;34m\u001b[0m\u001b[0m\n\u001b[1;32m   2739\u001b[0m     \u001b[0;32melif\u001b[0m \u001b[0mklass\u001b[0m \u001b[0;32mis\u001b[0m \u001b[0mDatetimeTZBlock\u001b[0m \u001b[0;32mand\u001b[0m \u001b[0;32mnot\u001b[0m \u001b[0mis_datetime64tz_dtype\u001b[0m\u001b[0;34m(\u001b[0m\u001b[0mvalues\u001b[0m\u001b[0;34m.\u001b[0m\u001b[0mdtype\u001b[0m\u001b[0;34m)\u001b[0m\u001b[0;34m:\u001b[0m\u001b[0;34m\u001b[0m\u001b[0;34m\u001b[0m\u001b[0m\n",
      "\u001b[0;32m/usr/lib/python3/dist-packages/pandas/core/internals/blocks.py\u001b[0m in \u001b[0;36mget_block_type\u001b[0;34m(values, dtype)\u001b[0m\n\u001b[1;32m   2688\u001b[0m     \u001b[0mcls\u001b[0m \u001b[0;34m:\u001b[0m \u001b[0;32mclass\u001b[0m\u001b[0;34m,\u001b[0m \u001b[0msubclass\u001b[0m \u001b[0mof\u001b[0m \u001b[0mBlock\u001b[0m\u001b[0;34m\u001b[0m\u001b[0;34m\u001b[0m\u001b[0m\n\u001b[1;32m   2689\u001b[0m     \"\"\"\n\u001b[0;32m-> 2690\u001b[0;31m     \u001b[0mdtype\u001b[0m \u001b[0;34m=\u001b[0m \u001b[0mdtype\u001b[0m \u001b[0;32mor\u001b[0m \u001b[0mvalues\u001b[0m\u001b[0;34m.\u001b[0m\u001b[0mdtype\u001b[0m\u001b[0;34m\u001b[0m\u001b[0;34m\u001b[0m\u001b[0m\n\u001b[0m\u001b[1;32m   2691\u001b[0m     \u001b[0mvtype\u001b[0m \u001b[0;34m=\u001b[0m \u001b[0mdtype\u001b[0m\u001b[0;34m.\u001b[0m\u001b[0mtype\u001b[0m\u001b[0;34m\u001b[0m\u001b[0;34m\u001b[0m\u001b[0m\n\u001b[1;32m   2692\u001b[0m \u001b[0;34m\u001b[0m\u001b[0m\n",
      "\u001b[0;31mKeyboardInterrupt\u001b[0m: "
     ]
    }
   ],
   "source": [
    "root_chess = tree_chess.fit(train_c,features,'draw')"
   ]
  },
  {
   "cell_type": "code",
   "execution_count": 108,
   "metadata": {},
   "outputs": [
    {
     "output_type": "stream",
     "name": "stdout",
     "text": [
      "Depth: 0 Attribute: 1\n[1: (1.5, 0): Attribute: 2]  [2: (1.5, 1): Attribute: 2]  \n\nDepth: 1 Attribute: 2\n[1: (2.5, 0): Attribute: 3]  [2: (2.5, 1): Attribute: c]  \n\nDepth: 1 Attribute: 2\n[1: (2.5, 0): Attribute: a]  [2: (2.5, 1): Attribute: a]  \n\nDepth: 2 Attribute: 3\n[1: (3.5, 0): Attribute: b]  [2: (3.5, 1): Attribute: a]  \n\nDepth: 2 Attribute: c\n[1: (1.5, 0): Attribute: b]  [2: (1.5, 1): Attribute: a]  \n\nDepth: 2 Attribute: a\n[1: (2.5, 0): Attribute: c]  [2: (2.5, 1): Attribute: c]  \n\nDepth: 2 Attribute: a\n[1: (2.5, 0): Attribute: c]  [2: (2.5, 1): Attribute: c]  \n\nDepth: 3 Attribute: b\n[1: (2.5, 0): Attribute: c]  [2: (2.5, 1): Attribute: c]  \n\nDepth: 3 Attribute: a\n[1: (1.5, 0): Attribute: c]  [2: (1.5, 1): Attribute: c]  \n\nDepth: 3 Attribute: b\n[1: (2.5, 0): Attribute: 3]  [2: (2.5, 1): Attribute: 3]  \n\nDepth: 3 Attribute: a\n[1: (0.5, 0): Attribute: b]  [2: (0.5, 1): Attribute: b]  \n\nDepth: 3 Attribute: c\n[1: (2.5, 0): Attribute: b]  [2: (2.5, 1): Attribute: 3]  \n\nDepth: 3 Attribute: c\n[1: (1.5, 0): Attribute: 3]  [2: (1.5, 1): Attribute: 3]  \n\nDepth: 3 Attribute: c\n[1: (6.5, 0): Attribute: 3]  [2: (6.5, 1): Attribute: b]  \n\nDepth: 3 Attribute: c\n[1: (6.5, 0): Attribute: 3]  [2: (6.5, 1): Attribute: b]  \n\nDepth: 4 Attribute: c\n[1: (3.5, 0): Attribute: a]  [2: (3.5, 1): Attribute: a]  \n\nDepth: 4 Attribute: c\n[1: (1.5, 0): Attribute: a]  [2: (1.5, 1): Attribute: a]  \n\nDepth: 4 Attribute: c\n[1: (5.5, 0): Attribute: b]  [2: (5.5, 1): Attribute: b]  \n\nDepth: 4 Attribute: c\n[1: (2.5, 0): Attribute: b]  [2: (2.5, 1): Attribute: b]  \n\nDepth: 4 Attribute: 3\n[1: (2.5, 0): Attribute: a]  [2: (2.5, 1): Attribute: a]  \n\nDepth: 4 Attribute: 3\n[1: (3.5, 0): Attribute: a]  [2: (3.5, 1): Attribute: a]  \n\nDepth: 4 Attribute: b\n[1: (4.5, 0): Attribute: 3]  [2: (4.5, 1): Attribute: 3]  \n\nDepth: 4 Attribute: b\n[1: (0.5, 0): Attribute: 3]  [2: (0.5, 1): Attribute: 3]  \n\nDepth: 4 Attribute: b\n[1: (2.5, 0): Attribute: 3]  [2: (2.5, 1): Attribute: 3]  \n\nDepth: 4 Attribute: 3\n[1: (3.5, 0): Attribute: b]  [2: (3.5, 1): Attribute: b]  \n\nDepth: 4 Attribute: 3\n[1: (3.5, 0): Attribute: b]  [2: (3.5, 1): Attribute: b]  \n\nDepth: 4 Attribute: 3\n[1: (4.5, 0): Attribute: b]  [2: (4.5, 1): Attribute: b]  \n\nDepth: 4 Attribute: 3\n[1: (2.5, 0): Attribute: b]  [2: (2.5, 1): Attribute: b]  \n\nDepth: 4 Attribute: b\n[1: (5.5, 0): Attribute: 3]  [2: (5.5, 1): Attribute: 3]  \n\nDepth: 4 Attribute: 3\n[1: (3.5, 0): Attribute: b]  [2: (3.5, 1): Attribute: b]  \n\nDepth: 4 Attribute: b\n[1: (5.5, 0): Attribute: 3]  [2: (5.5, 1): Attribute: 3]  \n\nDepth: 5 Attribute: a\n[1: (1.5, 0): Class label: draw]  [2: (1.5, 1): Class label: draw]  \n\nDepth: 5 Attribute: a\n[1: (2.5, 0): Class label: nine]  [2: (2.5, 1): Class label: six]  \n\nDepth: 5 Attribute: a\n[1: (2.5, 0): Class label: two]  [2: (2.5, 1): Class label: four]  \n\nDepth: 5 Attribute: a\n[1: (0.5, 0): Class label: draw]  [2: (0.5, 1): Class label: draw]  \n\nDepth: 5 Attribute: b\n[1: (2.5, 0): Class label: fourteen]  [2: (2.5, 1): Class label: thirteen]  \n\nDepth: 5 Attribute: b\n[1: (3.5, 0): Class label: eleven]  [2: (3.5, 1): Class label: twelve]  \n\nDepth: 5 Attribute: b\n[1: (2.5, 0): Class label: eleven]  [2: (2.5, 1): Class label: five]  \n\nDepth: 5 Attribute: b\n[1: (6.5, 0): Class label: eight]  [2: (6.5, 1): Class label: twelve]  \n\nDepth: 5 Attribute: a\n[1: (2.5, 0): Class label: fourteen]  [2: (2.5, 1): Class label: eleven]  \n\nDepth: 5 Attribute: a\n[1: (1.5, 0): Class label: draw]  [2: (1.5, 1): Class label: draw]  \n\nDepth: 5 Attribute: a\n[1: (1.5, 0): Class label: thirteen]  [2: (1.5, 1): Class label: thirteen]  \n\nDepth: 5 Attribute: a\n[1: (1.5, 0): Class label: fourteen]  [2: (1.5, 1): Class label: fourteen]  \n\nDepth: 5 Attribute: 3\n[1: (5.5, 0): Class label: fifteen]  [2: (5.5, 1): Class label: fifteen]  \n\nDepth: 5 Attribute: 3\n[1: (1.5, 0): Class label: fifteen]  [2: (1.5, 1): Class label: sixteen]  \n\nDepth: 5 Attribute: 3\n[1: (4.5, 0): Class label: fourteen]  [2: (4.5, 1): Class label: fourteen]  \n\nDepth: 5 Attribute: 3\n[1: (5.5, 0): Class label: fourteen]  [2: (5.5, 1): Class label: fifteen]  \n\nDepth: 5 Attribute: 3\n[1: (2.5, 0): Class label: draw]  [2: (2.5, 1): Class label: two]  \n\nDepth: 5 Attribute: 3\n[1: (3.5, 0): Class label: two]  [2: (3.5, 1): Class label: two]  \n\nDepth: 5 Attribute: b\n[1: (3.5, 0): Class label: eight]  [2: (3.5, 1): Class label: draw]  \n\nDepth: 5 Attribute: b\n[1: (2.5, 0): Class label: ten]  [2: (2.5, 1): Class label: nine]  \n\nDepth: 5 Attribute: b\n[1: (1.5, 0): Class label: draw]  [2: (1.5, 1): Class label: four]  \n\nDepth: 5 Attribute: b\n[1: (1.5, 0): Class label: three]  [2: (1.5, 1): Class label: five]  \n\nDepth: 5 Attribute: b\n[1: (4.5, 0): Class label: eight]  [2: (4.5, 1): Class label: draw]  \n\nDepth: 5 Attribute: b\n[1: (4.5, 0): Class label: eight]  [2: (4.5, 1): Class label: eight]  \n\nDepth: 5 Attribute: b\n[1: (3.5, 0): Class label: thirteen]  [2: (3.5, 1): Class label: thirteen]  \n\nDepth: 5 Attribute: b\n[1: (1.5, 0): Class label: thirteen]  [2: (1.5, 1): Class label: thirteen]  \n\nDepth: 5 Attribute: 3\n[1: (1.5, 0): Class label: twelve]  [2: (1.5, 1): Class label: twelve]  \n\nDepth: 5 Attribute: 3\n[1: (2.5, 0): Class label: twelve]  [2: (2.5, 1): Class label: draw]  \n\nDepth: 5 Attribute: b\n[1: (2.5, 0): Class label: thirteen]  [2: (2.5, 1): Class label: twelve]  \n\nDepth: 5 Attribute: b\n[1: (6.5, 0): Class label: twelve]  [2: (6.5, 1): Class label: twelve]  \n\nDepth: 5 Attribute: 3\n[1: (4.5, 0): Class label: nine]  [2: (4.5, 1): Class label: nine]  \n\nDepth: 5 Attribute: 3\n[1: (3.5, 0): Class label: eleven]  [2: (3.5, 1): Class label: draw]  \n\n"
     ]
    }
   ],
   "source": [
    "tree_chess.viewTree(root_chess)"
   ]
  },
  {
   "cell_type": "code",
   "execution_count": 117,
   "metadata": {},
   "outputs": [],
   "source": [
    "pred_y = tree_chess.predict(root_chess,train_c.iloc[:,:-1])"
   ]
  },
  {
   "cell_type": "code",
   "execution_count": 118,
   "metadata": {},
   "outputs": [
    {
     "output_type": "execute_result",
     "data": {
      "text/plain": [
       "33.08679379789699"
      ]
     },
     "metadata": {},
     "execution_count": 118
    }
   ],
   "source": [
    "tree_chess.accuracy(train_c.iloc[:,-1].values,pred_y)"
   ]
  },
  {
   "cell_type": "code",
   "execution_count": 119,
   "metadata": {},
   "outputs": [
    {
     "output_type": "execute_result",
     "data": {
      "text/plain": [
       "array(['thirteen', 'twelve', 'draw', ..., 'twelve', 'nine', 'twelve'],\n",
       "      dtype='<U8')"
      ]
     },
     "metadata": {},
     "execution_count": 119
    }
   ],
   "source": [
    "pred_y"
   ]
  },
  {
   "cell_type": "code",
   "execution_count": 120,
   "metadata": {},
   "outputs": [
    {
     "output_type": "execute_result",
     "data": {
      "text/plain": [
       "573          draw\n",
       "10162         ten\n",
       "13302      twelve\n",
       "12446      eleven\n",
       "11158      eleven\n",
       "           ...   \n",
       "13123      eleven\n",
       "19648    thirteen\n",
       "9845          ten\n",
       "10799      eleven\n",
       "2732         draw\n",
       "Name: draw, Length: 22444, dtype: object"
      ]
     },
     "metadata": {},
     "execution_count": 120
    }
   ],
   "source": [
    "train_c.iloc[:,-1]"
   ]
  },
  {
   "cell_type": "code",
   "execution_count": null,
   "metadata": {},
   "outputs": [],
   "source": []
  }
 ]
}