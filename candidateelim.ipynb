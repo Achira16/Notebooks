{
 "metadata": {
  "language_info": {
   "codemirror_mode": {
    "name": "ipython",
    "version": 3
   },
   "file_extension": ".py",
   "mimetype": "text/x-python",
   "name": "python",
   "nbconvert_exporter": "python",
   "pygments_lexer": "ipython3",
   "version": "3.9.1-final"
  },
  "orig_nbformat": 2,
  "kernelspec": {
   "name": "python3",
   "display_name": "Python 3.9.1 64-bit",
   "metadata": {
    "interpreter": {
     "hash": "31f2aee4e71d21fbe5cf8b01ff0e069b9275f58929596ceb00d14d90e3e16cd6"
    }
   }
  }
 },
 "nbformat": 4,
 "nbformat_minor": 2,
 "cells": [
  {
   "cell_type": "code",
   "execution_count": 79,
   "metadata": {},
   "outputs": [],
   "source": [
    "import pandas as pd\n",
    "import numpy as np"
   ]
  },
  {
   "cell_type": "code",
   "execution_count": 87,
   "metadata": {},
   "outputs": [],
   "source": [
    "class candidateElimination:\n",
    "    def __init__(self,no_of_attr):\n",
    "        self.S = [[None]*no_of_attr]\n",
    "        self.G = [['?']*no_of_attr]\n",
    "    def isConsistent(self,X,checkG=True):\n",
    "        if checkG:\n",
    "            to_remove = []\n",
    "            for g in self.G:\n",
    "                if None in g:\n",
    "                    to_remove.append(g)\n",
    "                else:\n",
    "                    for i in range(len(g)):\n",
    "                        if g[i]!='?' and g[i]!=X[i]:\n",
    "                            to_remove.append(g)\n",
    "            for g in to_remove:\n",
    "                try:\n",
    "                    self.G.remove(g)\n",
    "                except:\n",
    "                    pass\n",
    "        else:\n",
    "            to_remove = []\n",
    "            for s in self.S:\n",
    "                flag = False\n",
    "                if None in s:\n",
    "                    pass\n",
    "                else:\n",
    "                    for i in range(len(s)):\n",
    "                        if s[i]!='?' and s[i]!=X[i]:\n",
    "                            flag = True\n",
    "                    if not flag:\n",
    "                        to_remove.append(s)\n",
    "            for s in to_remove:\n",
    "                try:\n",
    "                    self.S.remove(s)\n",
    "                except:\n",
    "                    pass\n",
    "    def checkMoreGeneral(self,s,g):\n",
    "        if None in g and None not in s:\n",
    "            return False\n",
    "        if None in s and None not in g:\n",
    "            return True\n",
    "        for i in range(len(s)):\n",
    "            if g[i]!='?':\n",
    "                if s[i] == '?':\n",
    "                    return False\n",
    "                elif s[i]!=g[i]:\n",
    "                    return False\n",
    "        return True\n",
    "    def satisfy(self,s,x):\n",
    "        if None in s:\n",
    "            s = x.tolist()\n",
    "        else:\n",
    "            for i in range(len(s)):\n",
    "                if s[i]!='?' and s[i]!=x[i]:\n",
    "                        s[i] = '?'\n",
    "        return s\n",
    "    def consistent(self,g,x):\n",
    "        if None in g:\n",
    "                return True\n",
    "        flag = False\n",
    "        for i in range(len(g)):\n",
    "            if g[i]!='?' and g[i]!=x[i]:\n",
    "                flag = True\n",
    "        return flag\n",
    "    def fit(self,features,target):\n",
    "        print(\"Progres...\")\n",
    "        categories = []\n",
    "        for i in range(features.shape[1]):\n",
    "            categories.append(np.unique(features[:,i]))\n",
    "        i = 1\n",
    "        for x,y in zip(features,target):\n",
    "            if y:\n",
    "                self.isConsistent(x)\n",
    "                for j in range(len(self.S)):\n",
    "                    self.S[j] = self.satisfy(self.S[j],x)\n",
    "                s_remove = []\n",
    "                for s in self.S:\n",
    "                    for g in self.G:\n",
    "                         if not self.checkMoreGeneral(s,g):\n",
    "                             s_remove.append(s)\n",
    "                for s in s_remove:\n",
    "                    try:\n",
    "                        self.S.remove(s)\n",
    "                    except:\n",
    "                        pass\n",
    "            else:\n",
    "                self.isConsistent(x,False)\n",
    "                to_remove = []\n",
    "                for j in range(len(self.G)):\n",
    "                    flag = self.consistent(self.G[j],x)\n",
    "                    g = self.G[j]\n",
    "                    if not flag:\n",
    "                        results = []\n",
    "                        to_remove.append(j)\n",
    "                        for i in range(len(g)):\n",
    "                            for val in categories[i]:\n",
    "                                if g[i]=='?':\n",
    "                                    g_new = g[:i]+[val]+g[i+1:]\n",
    "                                    check = self.consistent(g_new,x)\n",
    "                                    if check:\n",
    "                                        results.append(g_new)\n",
    "                                else:\n",
    "                                    g_new = g[:i]+[None]+g[i+1:]\n",
    "                                    check = self.consistent(g_new,x)\n",
    "                                    if check:\n",
    "                                        results.append(g_new)\n",
    "                        self.G.extend(results)\n",
    "                for ind in to_remove:\n",
    "                    try:\n",
    "                        self.G.remove(self.G[ind])\n",
    "                    except:\n",
    "                        pass\n",
    "                to_remove.clear()\n",
    "                for s in self.S:\n",
    "                    for g in self.G:\n",
    "                         if not self.checkMoreGeneral(s,g):\n",
    "                             to_remove.append(g)\n",
    "                for g in to_remove:\n",
    "                    try:\n",
    "                        self.G.remove(g)\n",
    "                    except:\n",
    "                        pass\n",
    "            print(f'Example {i}: S: {S}, G:{G}')\n",
    "            i+=1\n",
    "        print('Done..')\n",
    "        return (self.S,self.G)"
   ]
  },
  {
   "cell_type": "code",
   "execution_count": 88,
   "metadata": {},
   "outputs": [
    {
     "output_type": "execute_result",
     "data": {
      "text/plain": [
       "     Sky AirTemp Humidity    Wind Water Forecast EnjoySport\n",
       "0  Sunny    Warm   Normal  Strong  Warm     Same        Yes\n",
       "1  Sunny    Warm     High  Strong  Warm     Same        Yes\n",
       "2  Rainy    Cold     High  Strong  Warm   Change         No\n",
       "3  Sunny    Warm     High  Strong  Cool   Change        Yes"
      ],
      "text/html": "<div>\n<style scoped>\n    .dataframe tbody tr th:only-of-type {\n        vertical-align: middle;\n    }\n\n    .dataframe tbody tr th {\n        vertical-align: top;\n    }\n\n    .dataframe thead th {\n        text-align: right;\n    }\n</style>\n<table border=\"1\" class=\"dataframe\">\n  <thead>\n    <tr style=\"text-align: right;\">\n      <th></th>\n      <th>Sky</th>\n      <th>AirTemp</th>\n      <th>Humidity</th>\n      <th>Wind</th>\n      <th>Water</th>\n      <th>Forecast</th>\n      <th>EnjoySport</th>\n    </tr>\n  </thead>\n  <tbody>\n    <tr>\n      <th>0</th>\n      <td>Sunny</td>\n      <td>Warm</td>\n      <td>Normal</td>\n      <td>Strong</td>\n      <td>Warm</td>\n      <td>Same</td>\n      <td>Yes</td>\n    </tr>\n    <tr>\n      <th>1</th>\n      <td>Sunny</td>\n      <td>Warm</td>\n      <td>High</td>\n      <td>Strong</td>\n      <td>Warm</td>\n      <td>Same</td>\n      <td>Yes</td>\n    </tr>\n    <tr>\n      <th>2</th>\n      <td>Rainy</td>\n      <td>Cold</td>\n      <td>High</td>\n      <td>Strong</td>\n      <td>Warm</td>\n      <td>Change</td>\n      <td>No</td>\n    </tr>\n    <tr>\n      <th>3</th>\n      <td>Sunny</td>\n      <td>Warm</td>\n      <td>High</td>\n      <td>Strong</td>\n      <td>Cool</td>\n      <td>Change</td>\n      <td>Yes</td>\n    </tr>\n  </tbody>\n</table>\n</div>"
     },
     "metadata": {},
     "execution_count": 88
    }
   ],
   "source": [
    "data = pd.read_csv('common.csv')\n",
    "data"
   ]
  },
  {
   "cell_type": "code",
   "execution_count": 89,
   "metadata": {},
   "outputs": [],
   "source": [
    "data.EnjoySport = data.EnjoySport.apply(lambda x:1 if x==\"Yes\" else 0)"
   ]
  },
  {
   "cell_type": "code",
   "execution_count": 90,
   "metadata": {},
   "outputs": [
    {
     "output_type": "execute_result",
     "data": {
      "text/plain": [
       "     Sky AirTemp Humidity    Wind Water Forecast  EnjoySport\n",
       "0  Sunny    Warm   Normal  Strong  Warm     Same           1\n",
       "1  Sunny    Warm     High  Strong  Warm     Same           1\n",
       "2  Rainy    Cold     High  Strong  Warm   Change           0\n",
       "3  Sunny    Warm     High  Strong  Cool   Change           1"
      ],
      "text/html": "<div>\n<style scoped>\n    .dataframe tbody tr th:only-of-type {\n        vertical-align: middle;\n    }\n\n    .dataframe tbody tr th {\n        vertical-align: top;\n    }\n\n    .dataframe thead th {\n        text-align: right;\n    }\n</style>\n<table border=\"1\" class=\"dataframe\">\n  <thead>\n    <tr style=\"text-align: right;\">\n      <th></th>\n      <th>Sky</th>\n      <th>AirTemp</th>\n      <th>Humidity</th>\n      <th>Wind</th>\n      <th>Water</th>\n      <th>Forecast</th>\n      <th>EnjoySport</th>\n    </tr>\n  </thead>\n  <tbody>\n    <tr>\n      <th>0</th>\n      <td>Sunny</td>\n      <td>Warm</td>\n      <td>Normal</td>\n      <td>Strong</td>\n      <td>Warm</td>\n      <td>Same</td>\n      <td>1</td>\n    </tr>\n    <tr>\n      <th>1</th>\n      <td>Sunny</td>\n      <td>Warm</td>\n      <td>High</td>\n      <td>Strong</td>\n      <td>Warm</td>\n      <td>Same</td>\n      <td>1</td>\n    </tr>\n    <tr>\n      <th>2</th>\n      <td>Rainy</td>\n      <td>Cold</td>\n      <td>High</td>\n      <td>Strong</td>\n      <td>Warm</td>\n      <td>Change</td>\n      <td>0</td>\n    </tr>\n    <tr>\n      <th>3</th>\n      <td>Sunny</td>\n      <td>Warm</td>\n      <td>High</td>\n      <td>Strong</td>\n      <td>Cool</td>\n      <td>Change</td>\n      <td>1</td>\n    </tr>\n  </tbody>\n</table>\n</div>"
     },
     "metadata": {},
     "execution_count": 90
    }
   ],
   "source": [
    "data"
   ]
  },
  {
   "cell_type": "code",
   "execution_count": 91,
   "metadata": {},
   "outputs": [],
   "source": [
    "model = candidateElimination(data.shape[1]-1)"
   ]
  },
  {
   "cell_type": "code",
   "execution_count": 92,
   "metadata": {},
   "outputs": [],
   "source": [
    "X = data.iloc[:,:-1].values\n",
    "y = data.iloc[:,-1].values"
   ]
  },
  {
   "cell_type": "code",
   "execution_count": 93,
   "metadata": {},
   "outputs": [
    {
     "output_type": "stream",
     "name": "stdout",
     "text": [
      "Progres...\nExample 1: S: [['Sunny', 'Warm', '?', 'Strong', '?', '?']], G:[['Sunny', '?', '?', '?', '?', '?'], ['?', 'Warm', '?', '?', '?', '?']]\nExample 2: S: [['Sunny', 'Warm', '?', 'Strong', '?', '?']], G:[['Sunny', '?', '?', '?', '?', '?'], ['?', 'Warm', '?', '?', '?', '?']]\nExample 5: S: [['Sunny', 'Warm', '?', 'Strong', '?', '?']], G:[['Sunny', '?', '?', '?', '?', '?'], ['?', 'Warm', '?', '?', '?', '?']]\nExample 6: S: [['Sunny', 'Warm', '?', 'Strong', '?', '?']], G:[['Sunny', '?', '?', '?', '?', '?'], ['?', 'Warm', '?', '?', '?', '?']]\nDone..\n"
     ]
    }
   ],
   "source": [
    "(S,G) = model.fit(X,y)"
   ]
  },
  {
   "cell_type": "code",
   "execution_count": 95,
   "metadata": {},
   "outputs": [
    {
     "output_type": "stream",
     "name": "stdout",
     "text": [
      "Final S: [['Sunny', 'Warm', '?', 'Strong', '?', '?']] , G: [['Sunny', '?', '?', '?', '?', '?'], ['?', 'Warm', '?', '?', '?', '?']]\n"
     ]
    }
   ],
   "source": [
    "print(f'Final S: {S} , G: {G}')"
   ]
  },
  {
   "cell_type": "code",
   "execution_count": null,
   "metadata": {},
   "outputs": [],
   "source": []
  }
 ]
}